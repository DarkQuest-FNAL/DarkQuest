{
 "cells": [
  {
   "cell_type": "markdown",
   "id": "63c795af",
   "metadata": {},
   "source": [
    "Example to measure the DP trigger efficiency with RDF"
   ]
  },
  {
   "cell_type": "code",
   "execution_count": 1,
   "id": "c5cc3d59",
   "metadata": {},
   "outputs": [
    {
     "name": "stdout",
     "output_type": "stream",
     "text": [
      "Welcome to JupyROOT 6.28/04\n"
     ]
    }
   ],
   "source": [
    "import ROOT"
   ]
  },
  {
   "cell_type": "code",
   "execution_count": 2,
   "id": "c9f03f2b",
   "metadata": {},
   "outputs": [
    {
     "data": {
      "text/plain": [
       "0"
      ]
     },
     "execution_count": 2,
     "metadata": {},
     "output_type": "execute_result"
    }
   ],
   "source": [
    "ROOT.gSystem.Load(\"Functions_cc.so\")"
   ]
  },
  {
   "cell_type": "code",
   "execution_count": 3,
   "id": "928873ad",
   "metadata": {},
   "outputs": [
    {
     "data": {
      "text/plain": [
       "0"
      ]
     },
     "execution_count": 3,
     "metadata": {},
     "output_type": "execute_result"
    },
    {
     "name": "stdout",
     "output_type": "stream",
     "text": [
      "Quadrant: 0\n",
      "Quadrant: 1\n",
      "Quadrant: 2\n",
      "Quadrant: 3\n"
     ]
    }
   ],
   "source": [
    "ROOT.gROOT.ProcessLine(\"std::vector<std::vector<std::vector<std::vector<std::vector<float>>>>> trigMaps(4, std::vector<std::vector<std::vector<std::vector<float>>>>(80, std::vector<std::vector<std::vector<float>>>(80, std::vector<std::vector<float>>(50, std::vector<float>(50, 0.0)))));\")\n",
    "ROOT.gROOT.ProcessLine('BuildMap(trigMaps, \"data/DPTrigger_road16.txt\")')\n",
    "\n"
   ]
  },
  {
   "cell_type": "code",
   "execution_count": 4,
   "id": "79e28584",
   "metadata": {},
   "outputs": [],
   "source": [
    "rdf = ROOT.ROOT.RDataFrame(\"Events\",\"data/Brem_0.250000_z500_600_eps_-4.2_fvchv.root\")"
   ]
  },
  {
   "cell_type": "markdown",
   "id": "7f8c6f46",
   "metadata": {},
   "source": [
    "Define the reco flags"
   ]
  },
  {
   "cell_type": "code",
   "execution_count": 5,
   "id": "67866701",
   "metadata": {},
   "outputs": [],
   "source": [
    "rdf = rdf.Filter(\"n_truthtracks == 2\")\\\n",
    "         .Define(\"a_prime_pz\", \"truthdimuon_pz[0]\")\\\n",
    "         .Define(\"two_track_frac\", \"int(bool(truthtrack_rectrack_id[0] > -1 && truthtrack_rectrack_id[1] > -1))\")\\\n",
    "         .Define(\"recon_w_dimuon_track\", \"int(bool(truthdimuon_recoed[0] > 0))\")"
   ]
  },
  {
   "cell_type": "markdown",
   "id": "995c567a",
   "metadata": {},
   "source": [
    "Define the trigger status"
   ]
  },
  {
   "cell_type": "code",
   "execution_count": 6,
   "id": "27e8b844",
   "metadata": {},
   "outputs": [],
   "source": [
    "rdf = rdf.Define(\"DisplacedTrigger\", \"IsTrigFired(trigMaps, hit_detID, hit_elmID)\") \\\n",
    "         .Define(\"MuonTrigger\", \"fpga_trigger[0] == 1\") \\\n",
    "         .Define(\"TriggerFired\", \"DisplacedTrigger || MuonTrigger\")"
   ]
  },
  {
   "cell_type": "markdown",
   "id": "d0c21989",
   "metadata": {},
   "source": [
    "Count events passing trigger and reco"
   ]
  },
  {
   "cell_type": "code",
   "execution_count": 7,
   "id": "23dfd7b8",
   "metadata": {},
   "outputs": [],
   "source": [
    "a = rdf.Filter(\"TriggerFired!=0\").Count()\n",
    "b = rdf.Filter(\"recon_w_dimuon_track!=0\").Count()\n",
    "c = rdf.Filter(\"TriggerFired!=0 && recon_w_dimuon_track!=0\").Count()"
   ]
  },
  {
   "cell_type": "code",
   "execution_count": 8,
   "id": "e28f8356",
   "metadata": {},
   "outputs": [
    {
     "name": "stdout",
     "output_type": "stream",
     "text": [
      "Trigger fired:  378\n",
      "Dimuon reco-ed:  4233\n",
      "Both trigger fired and dimuon reco-ed:  159\n"
     ]
    }
   ],
   "source": [
    "print(\"Trigger fired: \", a.GetValue())\n",
    "print(\"Dimuon reco-ed: \", b.GetValue())\n",
    "print(\"Both trigger fired and dimuon reco-ed: \", c.GetValue())"
   ]
  },
  {
   "cell_type": "code",
   "execution_count": null,
   "id": "dc4fbfbc",
   "metadata": {},
   "outputs": [],
   "source": []
  }
 ],
 "metadata": {
  "kernelspec": {
   "display_name": "Python 3 (ipykernel)",
   "language": "python",
   "name": "python3"
  },
  "language_info": {
   "codemirror_mode": {
    "name": "ipython",
    "version": 3
   },
   "file_extension": ".py",
   "mimetype": "text/x-python",
   "name": "python",
   "nbconvert_exporter": "python",
   "pygments_lexer": "ipython3",
   "version": "3.9.12"
  }
 },
 "nbformat": 4,
 "nbformat_minor": 5
}
