{
 "cells": [
  {
   "cell_type": "code",
   "execution_count": 1,
   "metadata": {},
   "outputs": [],
   "source": [
    "import uproot\n",
    "import numpy as np\n",
    "import awkward as ak"
   ]
  },
  {
   "cell_type": "code",
   "execution_count": 2,
   "metadata": {},
   "outputs": [],
   "source": [
    "import matplotlib.pyplot as plt\n",
    "from matplotlib import cm\n",
    "from matplotlib.ticker import LinearLocator, FormatStrFormatter\n",
    "from matplotlib import rcParams\n",
    "from mpl_toolkits.mplot3d import Axes3D  # noqa: F401 unused import                                                                                                                  \n",
    "import mplhep as hep\n",
    "plt.style.use(hep.style.ROOT)\n",
    "import os,sys"
   ]
  },
  {
   "cell_type": "code",
   "execution_count": 3,
   "metadata": {},
   "outputs": [],
   "source": [
    "def getData(fname=\"\", procName=\"Truth\"):\n",
    "    dq_dict = uproot.open(fname)[\"Truth\"]\n",
    "    dq_events = ak.zip({\"Hits\":ak.zip({\n",
    "                                      \"detID\":   dq_dict[\"hit_detID\"].array(),\n",
    "                                      \"edep\":    dq_dict[\"hit_edep\"].array(),\n",
    "                                      \"elmID\":   dq_dict[\"hit_elmID\"].array(),\n",
    "                                      \"truthx\":  dq_dict[\"hit_truthx\"].array(),\n",
    "                                      \"truthy\":  dq_dict[\"hit_truthy\"].array(),\n",
    "                                      \"truthz\":  dq_dict[\"hit_truthz\"].array(),\n",
    "                                      })\n",
    "                        }, depth_limit=1)\n",
    "    \n",
    "    return dq_events"
   ]
  },
  {
   "cell_type": "code",
   "execution_count": 4,
   "metadata": {},
   "outputs": [],
   "source": [
    "def emcal_selection(arr):\n",
    "    mask = (arr.detID == 100)\n",
    "    return mask\n",
    "\n",
    "def h1_selection(arr):\n",
    "    mask = (arr.detID >= 31) & (arr.detID <= 32)\n",
    "    return mask\n",
    "\n",
    "def st3_selection(arr):\n",
    "    mask = (arr.detID >= 19) & (arr.detID <= 30)\n",
    "    return mask\n",
    "\n",
    "def h4_selection(arr):\n",
    "    mask = (arr.detID >= 41) & (arr.detID <= 46)\n",
    "    return mask"
   ]
  },
  {
   "cell_type": "code",
   "execution_count": 9,
   "metadata": {},
   "outputs": [
    {
     "name": "stdout",
     "output_type": "stream",
     "text": [
      "10000\n",
      "[[-1.79, -3.86], [-3.89, 0.973], [3.7, ... -12.5], [7.38, 6.54], [-10.1, -1.43]]\n",
      "[[-1.79, -3.86], [-3.89, 0.973], [3.7, 2.74, ... [-9.22], [7.38, 6.54], [-1.43]]\n",
      "[[-1.79, -3.86], [-3.89, 0.973], [3.7, ... -12.5], [7.38, 6.54], [-10.1, -1.43]]\n",
      "[True, True, True, True, False, True, True, ... True, True, False, True, True, True]\n",
      "7690\n"
     ]
    }
   ],
   "source": [
    "Eta054 = \"data/simeval_electrons_emcal_-6/sim_eval_Eta_0.540000_z500_600_eps_-6.root\"\n",
    "dq_hits = getData(Eta054)[\"Hits\"]\n",
    "print(len(dq_hits))\n",
    "h1_mask = h1_selection(dq_hits)\n",
    "h1_hits = dq_hits[h1_mask]\n",
    "x_mask = (h1_hits.truthx >= -10) & (h1_hits.truthx <= 10)\n",
    "x_index = np.where(ak.any(x_mask,axis=1))\n",
    "\n",
    "print(h1_hits.truthx)\n",
    "print(h1_hits[x_mask].truthx)\n",
    "print(h1_hits[x_index].truthx)\n",
    "print(ak.any(x_mask,axis=1))\n",
    "print(len(ak.to_numpy(x_index)[0]))"
   ]
  },
  {
   "cell_type": "code",
   "execution_count": 7,
   "metadata": {},
   "outputs": [
    {
     "data": {
      "text/plain": [
       "<matplotlib.legend.Legend at 0x7fea416bc9d0>"
      ]
     },
     "execution_count": 7,
     "metadata": {},
     "output_type": "execute_result"
    },
    {
     "data": {
      "image/png": "[encoded data removed]",
      "text/plain": [
       "<Figure size 720x720 with 1 Axes>"
      ]
     },
     "metadata": {
      "needs_background": "light"
     },
     "output_type": "display_data"
    }
   ],
   "source": [
    "bins_range = [(46, (-162.008,162.008), \"H1BT\")]\n",
    "plt.hist(ak.flatten(h1_hits.truthx),bins=bins_range[0][0],range=bins_range[0][1],histtype='step',label=\"uncut\")\n",
    "plt.hist(ak.flatten(h1_hits[x_mask].truthx),bins=bins_range[0][0],range=bins_range[0][1],histtype='step',label=\"cut\")\n",
    "plt.hist(ak.flatten(h1_hits[x_index].truthx),bins=bins_range[0][0],range=bins_range[0][1],histtype='step',label=\"cut-1\")\n",
    "plt.legend()\n",
    "\n"
   ]
  },
  {
   "cell_type": "code",
   "execution_count": null,
   "metadata": {},
   "outputs": [],
   "source": []
  }
 ],
 "metadata": {
  "kernelspec": {
   "display_name": "Python 3",
   "language": "python",
   "name": "python3"
  },
  "language_info": {
   "codemirror_mode": {
    "name": "ipython",
    "version": 3
   },
   "file_extension": ".py",
   "mimetype": "text/x-python",
   "name": "python",
   "nbconvert_exporter": "python",
   "pygments_lexer": "ipython3",
   "version": "3.7.9"
  }
 },
 "nbformat": 4,
 "nbformat_minor": 4
}
