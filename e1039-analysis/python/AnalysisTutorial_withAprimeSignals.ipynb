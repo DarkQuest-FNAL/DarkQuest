{
 "cells": [
  {
   "cell_type": "markdown",
   "metadata": {},
   "source": [
    "# DarkQuest Analysis & Uproot Tutorial"
   ]
  },
  {
   "cell_type": "markdown",
   "metadata": {},
   "source": [
    "## Physics of DarkQuest:\n",
    "\n",
    "DarkQuest is a proton fixed-target experiment sensitive to visible dark sector signatures in MeV-GeV mass range. \n",
    "It proposes a few low-cost upgrades to existing detectors from the SeaQuest/SpinQuest (E-1039) Fermilab fixed target beam-dump experiment.\n",
    "\n",
    "DarkQuest will directly search for the decays of unstable mediators to visible Standard Model particles, *by shooting protons into a nuclear target*. When protons collide with a nucleus, a new dark sector particle might be produced.\n",
    "\n",
    "DarkQuest distinguishes itself from other experiments in that it can cover a unique parameter space of dark matter scenarios as a *compact* beam dump spectrometer detector.\n",
    "\n",
    "### Experiment description:\n",
    "\n",
    "DarkQuest would operate on the neutrino-muon beamline of the Fermilab Accelerator Complex (NM4) and receive a high-intensity beam of 120 GeV protons from the Main Injector.\n",
    "\n",
    "These images show the location of the experiment at Fermilab:\n",
    "https://github.com/DarkQuest-FNAL/DarkQuest/blob/master/images/location1.png\n",
    "https://github.com/DarkQuest-FNAL/DarkQuest/blob/master/images/location2.png\n",
    "\n",
    "The DarkQuest detector setup would be a version of the SeaQuest/SpinQuest spectrometer, but with an added Electromagnetic Calorimeter (Ecal or EMCAL). \n",
    "\n",
    "Here is the schematic of the DarkQuest experiment:\n",
    "https://github.com/DarkQuest-FNAL/DarkQuest/blob/master/images/detector.png\n",
    "\n",
    "It measures 25m long and is made of a nuclear target, two magnets (one for focusing and another to measure the momenta of particles), triggering/tracking (hodoscopes and drift chambers) and muon-indentification stations (prototubes).\n",
    "\n",
    "- *Target*: The target in SeaQuest contains liquid hydrogen, liquid deuterium, carbon, iron and tungsten. These targets are replaced in SpinQuest by polarized targets (see https://lss.fnal.gov/archive/2020/slides/fermilab-slides-20-690-e.pdf), and they will be moved further upstream to better distinguish between target and beam-dump events. \n",
    "\n",
    "- *Absorber and FMAG*: The FMAG (Focusing Magnet) is a 5m block of iron absorber, bending magnet, and beam dump that is placed within 1m downstream from the target. It absorbs charged hadrons (mostly pions and kaons) produced in the target, and serves as a focusing magnet for the muons that we want to detect. *In the software FMAG ends at 503cm*. It is a closed aperture magnet, which means it does not have a hole.\n",
    "\n",
    "- *Tracking stations*: Following the FMAG there are different stations (1 through 4) containing a set of hodoscopes³ and drift chambers⁴, which provide triggering and tracking information, respectively. \n",
    "\n",
    "   (a) Hodoscopes contain scintillating material that emits light when a charged particle passes through it. They are are used as primary trigger for the spectrometer. Their spatial resolution is limited because the segment size is very large.\n",
    "   (b) Drift chambers are used to detect particle trajectories by tracking the particles’ trails of gaseous ionization. They are used to improve the spatial resolution of the experiment.\n",
    "   \n",
    "There are 4 tracking stations, each composed of a hodoscope followed by a drift chamber. \n",
    "\n",
    "   (c) Dark Photon hodoscopes (also abbreviated DPs): These are also hodoscopes similar to (a), but they have finer granularity.\n",
    "\n",
    "The positions of the hodoscopes and the drift chambers are in these images:\n",
    "\n",
    "- *KMAG*: The downstream KMAG magnet is a large, open-aperture magnet that was previously used in the Fermilab KTeV experiment. The KMAG is between Station 1 and 2 and can allow for an accurate measure of the particle's momenta.\n",
    "\n",
    "### A' production:\n",
    "One potential particle candidate that can mediate interactions between dark matter particles is a particle called “Dark Photon” (A’): `Dark`,because it interacts mostly with dark matter, and `photon` because its interactions with charged particles are just like the interactions of the ordinary photon, but much weaker.\n",
    "\n",
    "A new dark photon can be produced in the proton - target interactions in the spectrometer. There are two main production mechanisms:\n",
    "- *Proton Bremsstrahlung* (similar to the electron Bremsstrahlung where an electron loses some of its energy and emits a photon). A diagram of this production mechanism is shown here: https://github.com/DarkQuest-FNAL/DarkQuest/blob/master/images/brem_production.png\n",
    "\n",
    "- *Meson production* (where mesons can decay to a pair of photon-dark-Photon). These mesons can be Eta mesons or pions. A diagram of this production mechanism is shown here: https://github.com/DarkQuest-FNAL/DarkQuest/blob/master/images/eta_production.png\n",
    "\n",
    "Because of it's weak coupling, the dark photon will have a large lifetime. This means that it will not decay inmediately after being produced.\n",
    "\n",
    "Once produced, the dark photon then might traverse the FMAG, and decay either into an electron or muon pair. \n",
    "If we reconstruct the path of these lepton pairs, we will see that the decay point (vertex) is displaced from the target, so we can infer that a dark photon might have been produced during the collision. \n",
    "\n",
    "### References:\n",
    "- *Dark Sectors at the Fermilab SeaQuest Experiment*: https://arxiv.org/pdf/1804.00661.pdf\n",
    "- *Dark Scalars and Heavy Neutral Leptons at DarkQuest*: https://arxiv.org/pdf/2008.08108.pdf\n",
    "- *Description of PHENIX calorimeter*: https://www.sciencedirect.com/science/article/abs/pii/S016890020201954X\n",
    "- *SeaQuest spectrometer at Fermilab*: https://arxiv.org/pdf/1706.09990.pdf\n",
    "- *The High-Energy Frontier of the Intensity Frontier: Closing the Dark Photon, Inelastic Dark Matter, and Muon g − 2 Windows*: https://arxiv.org/pdf/1908.07525.pdf\n",
    "\n",
    "### Other references:\n",
    "- *Snowmass LOI*: https://www.snowmass21.org/docs/files/summaries/RF/SNOWMASS21-RF6_RF0_Nhan_Tran-025.pdf\n",
    "- *Blog post by DUC*: https://medium.com/darkquest/the-darkquest-experiment-1b8e46de1e40\n",
    "- *Brian Ramson's thesis on SeaQuest*: https://lss.fnal.gov/archive/thesis/2000/fermilab-thesis-2018-01.pdf"
   ]
  },
  {
   "cell_type": "markdown",
   "metadata": {},
   "source": [
    "[Root](https://root.cern/) is an object-oriented software framework for data analysis developed by CERN, and is used all throughout particle physics. This framework offers very useful features such as a GUI for interactive data analysis, file I/O, plotting functions (histograms, curve fitting, statistics, etc), and more. \n",
    "\n",
    "Since it is written in and relies on C++, using the ROOT application itself requires knowledge of C++ and can be tricky at first. This tutorial will not cover how to use ROOT itself, but instead [Uproot](https://uproot.readthedocs.io/en/latest/), a python library for reading ROOT files. Nonetheless, it is a good idea to play around with ROOT and learn how to use it, as it comes in very handy anywhere in particle physics. In addition, this tutorial will cover using the [Awkward](https://awkward-array.readthedocs.io/en/latest/) and [Awkward1](https://pypi.org/project/awkward1/) python libraries for dealing with nested arrays of nonuniform size.\n",
    "\n",
    "## Tutorials/Documentation: \n",
    "\n",
    "* [Root](https://root.cern.ch/root/htmldoc/guides/primer/ROOTPrimer.html)\n",
    "* [Uproot](https://uproot.readthedocs.io/en/latest/basic.html)\n",
    "* [Awkward](https://awkward-array.readthedocs.io/en/latest/)\n",
    "* [Awkward1](https://pypi.org/project/awkward1/)"
   ]
  },
  {
   "cell_type": "markdown",
   "metadata": {},
   "source": [
    "# Installing Dependencies"
   ]
  },
  {
   "cell_type": "markdown",
   "metadata": {},
   "source": [
    "Install the following packages:\n",
    "```\n",
    "pip install uproot\n",
    "pip install awkward\n",
    "```\n",
    "Ideally, use Anaconda and install all the packages in their own environment.\n",
    "\n",
    "You'll also need `matplotlib` and `numpy`, but you probably have these already. Optionally, install `pandas` so that you can easily visualize the contents of the ROOT files you'll be working with:\n",
    "```\n",
    "pip install pandas\n",
    "```"
   ]
  },
  {
   "cell_type": "markdown",
   "metadata": {},
   "source": [
    "# Getting Started"
   ]
  },
  {
   "cell_type": "markdown",
   "metadata": {
    "ExecuteTime": {
     "end_time": "2021-04-08T14:50:54.132584Z",
     "start_time": "2021-04-08T14:50:54.127276Z"
    }
   },
   "source": [
    "The files you will be working with are stored in the `Sep2` directory in https://www.dropbox.com/s/b71d8imy4iil6kr/Sep2.zip?dl=0\n",
    "\n",
    "In this directory you will find\n",
    "- Electrons from A' decay: Stored in `displaced_Aprime_Electrons_z500-600/Brem_0.470915_z500_600_eps_-6.4_output.root`.\n",
    "- Muons from A' decay: Stored in `displaced_Aprime_Muons_z500-600/Brem_2.750000_z500_600_eps_-6.4_output.root`\n",
    "\n",
    "Copy the ROOT files into a `data` directory in the current path. These files contain simulated data of two electrons or two muons, the decay product of $A'$ dark photons produced by proton bremsstrahlung. \n",
    "\n",
    "Here the file nomenclature is `(production mode)_(Mass in GeV)_Z(start position of vertex distribution)_(end position of vertex distribution)_eps(epsilon)`. The last two z positions indicate the fiducial decay region (e.g. z = 5-6 meters), and the kinetic mixing parameter $\\epsilon=10^{-6.4}$. These are all properties of the simulation, and therefore produce different results. \n",
    "\n",
    "This tutorial will explore those different results while introducing analysis concepts in ROOT and Uproot."
   ]
  },
  {
   "cell_type": "markdown",
   "metadata": {},
   "source": [
    "Now, we use Uproot to read these files by passing the filename path to the `open` function:"
   ]
  },
  {
   "cell_type": "code",
   "execution_count": 1,
   "metadata": {
    "ExecuteTime": {
     "end_time": "2021-04-08T16:53:52.264575Z",
     "start_time": "2021-04-08T16:53:52.260837Z"
    }
   },
   "outputs": [],
   "source": [
    "import uproot"
   ]
  },
  {
   "cell_type": "code",
   "execution_count": 2,
   "metadata": {
    "ExecuteTime": {
     "end_time": "2021-04-08T16:53:52.542478Z",
     "start_time": "2021-04-08T16:53:52.514161Z"
    }
   },
   "outputs": [],
   "source": [
    "sim = \"data/Sep2/displaced_Aprime_Muons_z500-600/Brem_2.750000_z500_600_eps_-6.4_output.root\"\n",
    "\n",
    "truth = uproot.open(sim)"
   ]
  },
  {
   "cell_type": "markdown",
   "metadata": {},
   "source": [
    "Now, `truth` contains the information from the top-level directory of the ROOT file for the high mass $A'$ data. Looking at the object we see that it is in fact a `ROOTDirectory` file:"
   ]
  },
  {
   "cell_type": "code",
   "execution_count": 3,
   "metadata": {
    "ExecuteTime": {
     "end_time": "2021-04-08T16:53:53.377257Z",
     "start_time": "2021-04-08T16:53:53.372073Z"
    }
   },
   "outputs": [
    {
     "data": {
      "text/plain": [
       "uproot.reading.ReadOnlyDirectory"
      ]
     },
     "execution_count": 3,
     "metadata": {},
     "output_type": "execute_result"
    }
   ],
   "source": [
    "type(truth)"
   ]
  },
  {
   "cell_type": "markdown",
   "metadata": {},
   "source": [
    "`ROOTDirectory` files are similar to Python dictionaries in that they have keys and values:"
   ]
  },
  {
   "cell_type": "code",
   "execution_count": 4,
   "metadata": {
    "ExecuteTime": {
     "end_time": "2021-04-08T16:53:54.094815Z",
     "start_time": "2021-04-08T16:53:54.089492Z"
    }
   },
   "outputs": [
    {
     "data": {
      "text/plain": [
       "['Events;2', 'Events;1']"
      ]
     },
     "execution_count": 4,
     "metadata": {},
     "output_type": "execute_result"
    }
   ],
   "source": [
    "truth.keys()"
   ]
  },
  {
   "cell_type": "markdown",
   "metadata": {},
   "source": [
    "These simulation files have only one subdirectory, named `Events`, which itself is also a `ROOTDirectory`, with keys and values. \n",
    "\n",
    "**Note:** the `'b'` and `;1` in the object name refer to the fact that Uproot reads the name `Truth` as a raw bytestring and that there is only one `Truth` object in the ROOT file. It's not really anything to worry about\n",
    "\n",
    "Let's take a look at what's inside of `Truth` in the first (higher-mass) simulation file. As a reminder, Python `dict` values can be accessed by including the corresponding key in square brackets:"
   ]
  },
  {
   "cell_type": "code",
   "execution_count": 5,
   "metadata": {
    "ExecuteTime": {
     "end_time": "2021-04-08T16:53:54.943519Z",
     "start_time": "2021-04-08T16:53:54.897327Z"
    }
   },
   "outputs": [
    {
     "data": {
      "text/plain": [
       "uproot.models.TTree.Model_TTree_v20"
      ]
     },
     "execution_count": 5,
     "metadata": {},
     "output_type": "execute_result"
    }
   ],
   "source": [
    "type(truth[\"Events\"])"
   ]
  },
  {
   "cell_type": "markdown",
   "metadata": {},
   "source": [
    "We see that the ROOT file contains one subdirectory `Truth`, which contains what is known as a `TTree`. TTrees are actually ROOT objects, which contain the physics data. In Uproot, TTrees again act as dictionaries. The physics information is stored in yet another layer, called a `TBranch`, which can be seen as the keys of the TTree:"
   ]
  },
  {
   "cell_type": "code",
   "execution_count": 6,
   "metadata": {
    "ExecuteTime": {
     "end_time": "2021-04-08T16:53:55.472758Z",
     "start_time": "2021-04-08T16:53:55.435234Z"
    }
   },
   "outputs": [
    {
     "name": "stdout",
     "output_type": "stream",
     "text": [
      "['eventID', 'n_hits', 'hit_detID', 'hit_elmID', 'hit_trkID', 'hit_driftdis', 'hit_pos', 'hit_edep', 'hit_truthx', 'hit_truthy', 'hit_truthz', 'hit_truthpx', 'hit_truthpy', 'hit_truthpz', 'n_truthtracks', 'truthtrack_charge', 'truthtrack_x_st1', 'truthtrack_y_st1', 'truthtrack_z_st1', 'truthtrack_px_st1', 'truthtrack_py_st1', 'truthtrack_pz_st1', 'truthtrack_x_st3', 'truthtrack_y_st3', 'truthtrack_z_st3', 'truthtrack_px_st3', 'truthtrack_py_st3', 'truthtrack_pz_st3', 'truthtrack_x_vtx', 'truthtrack_y_vtx', 'truthtrack_z_vtx', 'truthtrack_px_vtx', 'truthtrack_py_vtx', 'truthtrack_pz_vtx', 'n_tracks', 'track_charge', 'track_nhits', 'track_x_target', 'track_y_target', 'track_z_target', 'track_px_target', 'track_py_target', 'track_pz_target', 'track_x_st1', 'track_y_st1', 'track_z_st1', 'track_px_st1', 'track_py_st1', 'track_pz_st1', 'track_x_st3', 'track_y_st3', 'track_z_st3', 'track_px_st3', 'track_py_st3', 'track_pz_st3', 'track_x_vtx', 'track_y_vtx', 'track_z_vtx', 'track_px_vtx', 'track_py_vtx', 'track_pz_vtx', 'track_m', 'track_chisq', 'track_prob', 'track_quality', 'track_isValid', 'track_nhits_st1', 'track_nhits_st2', 'track_nhits_st3', 'n_truthdimuons', 'truthdimuon_mass', 'truthdimuon_x_vtx', 'truthdimuon_y_vtx', 'truthdimuon_z_vtx', 'truthdimuon_px', 'truthdimuon_py', 'truthdimuon_pz', 'truthdimuon_pmom_x', 'truthdimuon_pmom_y', 'truthdimuon_pmom_z', 'truthdimuon_nmom_x', 'truthdimuon_nmom_y', 'truthdimuon_nmom_z', 'n_dimuons', 'dimuon_mass', 'dimuon_chisq', 'dimuon_x_vtx', 'dimuon_y_vtx', 'dimuon_z_vtx', 'dimuon_px', 'dimuon_py', 'dimuon_pz', 'dimuon_pmom_x', 'dimuon_pmom_y', 'dimuon_pmom_z', 'dimuon_nmom_x', 'dimuon_nmom_y', 'dimuon_nmom_z', 'dimuon_ppos_x', 'dimuon_ppos_y', 'dimuon_ppos_z', 'dimuon_npos_x', 'dimuon_npos_y', 'dimuon_npos_z', 'n_showers', 'sx_ecal', 'sy_ecal', 'sz_ecal', 'sedep_ecal', 'n_primaries', 'gtrkid', 'gpid', 'gvx', 'gvy', 'gvz', 'gpx', 'gpy', 'gpz', 'gpt', 'geta', 'gphi', 'ge', 'nhits_ecal', 'gx_ecal', 'gy_ecal', 'gz_ecal', 'gpx_ecal', 'gpy_ecal', 'gpz_ecal', 'gedep_ecal', 'gx_st1', 'gy_st1', 'gz_st1', 'gpx_st1', 'gpy_st1', 'gpz_st1', 'gx_st2', 'gy_st2', 'gz_st2', 'gpx_st2', 'gpy_st2', 'gpz_st2', 'gx_st3', 'gy_st3', 'gz_st3', 'gpx_st3', 'gpy_st3', 'gpz_st3', 'gx_h1', 'gy_h1', 'gz_h1', 'gpx_h1', 'gpy_h1', 'gpz_h1', 'gx_h2', 'gy_h2', 'gz_h2', 'gpx_h2', 'gpy_h2', 'gpz_h2', 'gx_h3', 'gy_h3', 'gz_h3', 'gpx_h3', 'gpy_h3', 'gpz_h3', 'gx_h4', 'gy_h4', 'gz_h4', 'gpx_h4', 'gpy_h4', 'gpz_h4', 'gx_p1', 'gy_p1', 'gz_p1', 'gpx_p1', 'gpy_p1', 'gpz_p1', 'fpga_trigger', 'weight']\n"
     ]
    }
   ],
   "source": [
    "print(truth[\"Events\"].keys())"
   ]
  },
  {
   "cell_type": "markdown",
   "metadata": {},
   "source": [
    "We can immediately see that there is useful information like the event ID, hit positions, momenta, energy deposits in the ECAL, and other variables.\n",
    "\n",
    "It is much easier to visualize this data using `pandas`, which will display all of the information contained in the TTree in a simple table. In addition, since we know that these simulations only contain one TTree (`Events`), we can open the TTree directly on calling `uproot.open()`, which makes the analysis code neater and simpler later down the line:"
   ]
  },
  {
   "cell_type": "code",
   "execution_count": 7,
   "metadata": {
    "ExecuteTime": {
     "end_time": "2021-04-08T16:53:57.987691Z",
     "start_time": "2021-04-08T16:53:55.934022Z"
    }
   },
   "outputs": [],
   "source": [
    "# just include the name of the key you want (\"Events\")\n",
    "events = uproot.open(sim)[\"Events\"]\n",
    "\n",
    "# convert to a pandas dataframe for visualization\n",
    "# let's select only arrays starting with `g`\n",
    "df = events.arrays(['n_primaries', 'gtrkid', 'gpid', 'gvx', 'gvy', 'gvz', 'gpx', 'gpy', 'gpz', 'gpt', 'geta', 'gphi', 'ge'],\n",
    "                   library=\"pd\")\n"
   ]
  },
  {
   "cell_type": "markdown",
   "metadata": {},
   "source": [
    "Now we can look at all the information contained in a the TTree much more easily"
   ]
  },
  {
   "cell_type": "code",
   "execution_count": 8,
   "metadata": {
    "ExecuteTime": {
     "end_time": "2021-04-08T16:53:58.340224Z",
     "start_time": "2021-04-08T16:53:58.202693Z"
    }
   },
   "outputs": [
    {
     "data": {
      "text/html": [
       "<div>\n",
       "<style scoped>\n",
       "    .dataframe tbody tr th:only-of-type {\n",
       "        vertical-align: middle;\n",
       "    }\n",
       "\n",
       "    .dataframe tbody tr th {\n",
       "        vertical-align: top;\n",
       "    }\n",
       "\n",
       "    .dataframe thead th {\n",
       "        text-align: right;\n",
       "    }\n",
       "</style>\n",
       "<table border=\"1\" class=\"dataframe\">\n",
       "  <thead>\n",
       "    <tr style=\"text-align: right;\">\n",
       "      <th></th>\n",
       "      <th></th>\n",
       "      <th>n_primaries</th>\n",
       "      <th>gtrkid</th>\n",
       "      <th>gpid</th>\n",
       "      <th>gvx</th>\n",
       "      <th>gvy</th>\n",
       "      <th>gvz</th>\n",
       "      <th>gpx</th>\n",
       "      <th>gpy</th>\n",
       "      <th>gpz</th>\n",
       "      <th>gpt</th>\n",
       "      <th>geta</th>\n",
       "      <th>gphi</th>\n",
       "      <th>ge</th>\n",
       "    </tr>\n",
       "    <tr>\n",
       "      <th>entry</th>\n",
       "      <th>subentry</th>\n",
       "      <th></th>\n",
       "      <th></th>\n",
       "      <th></th>\n",
       "      <th></th>\n",
       "      <th></th>\n",
       "      <th></th>\n",
       "      <th></th>\n",
       "      <th></th>\n",
       "      <th></th>\n",
       "      <th></th>\n",
       "      <th></th>\n",
       "      <th></th>\n",
       "      <th></th>\n",
       "    </tr>\n",
       "  </thead>\n",
       "  <tbody>\n",
       "    <tr>\n",
       "      <th rowspan=\"2\" valign=\"top\">0</th>\n",
       "      <th>0</th>\n",
       "      <td>2</td>\n",
       "      <td>1</td>\n",
       "      <td>13</td>\n",
       "      <td>0.731090</td>\n",
       "      <td>4.326594</td>\n",
       "      <td>516.291016</td>\n",
       "      <td>-1.038075</td>\n",
       "      <td>-0.087468</td>\n",
       "      <td>16.827839</td>\n",
       "      <td>1.041754</td>\n",
       "      <td>3.476233</td>\n",
       "      <td>-3.057532</td>\n",
       "      <td>16.860384</td>\n",
       "    </tr>\n",
       "    <tr>\n",
       "      <th>1</th>\n",
       "      <td>2</td>\n",
       "      <td>2</td>\n",
       "      <td>-13</td>\n",
       "      <td>0.731090</td>\n",
       "      <td>4.326594</td>\n",
       "      <td>516.291016</td>\n",
       "      <td>1.214156</td>\n",
       "      <td>0.647821</td>\n",
       "      <td>68.129562</td>\n",
       "      <td>1.376171</td>\n",
       "      <td>4.595356</td>\n",
       "      <td>0.490131</td>\n",
       "      <td>68.143547</td>\n",
       "    </tr>\n",
       "    <tr>\n",
       "      <th rowspan=\"2\" valign=\"top\">1</th>\n",
       "      <th>0</th>\n",
       "      <td>2</td>\n",
       "      <td>1</td>\n",
       "      <td>13</td>\n",
       "      <td>-0.959421</td>\n",
       "      <td>3.061176</td>\n",
       "      <td>594.720093</td>\n",
       "      <td>0.013142</td>\n",
       "      <td>-1.242140</td>\n",
       "      <td>60.504372</td>\n",
       "      <td>1.242209</td>\n",
       "      <td>4.579077</td>\n",
       "      <td>-1.560216</td>\n",
       "      <td>60.517212</td>\n",
       "    </tr>\n",
       "    <tr>\n",
       "      <th>1</th>\n",
       "      <td>2</td>\n",
       "      <td>2</td>\n",
       "      <td>-13</td>\n",
       "      <td>-0.959421</td>\n",
       "      <td>3.061176</td>\n",
       "      <td>594.720093</td>\n",
       "      <td>-0.196807</td>\n",
       "      <td>1.445283</td>\n",
       "      <td>47.492329</td>\n",
       "      <td>1.458622</td>\n",
       "      <td>4.176459</td>\n",
       "      <td>1.706136</td>\n",
       "      <td>47.514843</td>\n",
       "    </tr>\n",
       "    <tr>\n",
       "      <th>2</th>\n",
       "      <th>0</th>\n",
       "      <td>2</td>\n",
       "      <td>1</td>\n",
       "      <td>13</td>\n",
       "      <td>4.664356</td>\n",
       "      <td>3.092542</td>\n",
       "      <td>548.497375</td>\n",
       "      <td>1.026343</td>\n",
       "      <td>0.590484</td>\n",
       "      <td>15.555848</td>\n",
       "      <td>1.184083</td>\n",
       "      <td>3.270061</td>\n",
       "      <td>0.522081</td>\n",
       "      <td>15.601206</td>\n",
       "    </tr>\n",
       "    <tr>\n",
       "      <th>...</th>\n",
       "      <th>...</th>\n",
       "      <td>...</td>\n",
       "      <td>...</td>\n",
       "      <td>...</td>\n",
       "      <td>...</td>\n",
       "      <td>...</td>\n",
       "      <td>...</td>\n",
       "      <td>...</td>\n",
       "      <td>...</td>\n",
       "      <td>...</td>\n",
       "      <td>...</td>\n",
       "      <td>...</td>\n",
       "      <td>...</td>\n",
       "      <td>...</td>\n",
       "    </tr>\n",
       "    <tr>\n",
       "      <th>9997</th>\n",
       "      <th>1</th>\n",
       "      <td>2</td>\n",
       "      <td>2</td>\n",
       "      <td>-13</td>\n",
       "      <td>-0.118784</td>\n",
       "      <td>4.226844</td>\n",
       "      <td>529.926147</td>\n",
       "      <td>-0.995270</td>\n",
       "      <td>0.778510</td>\n",
       "      <td>20.815948</td>\n",
       "      <td>1.263583</td>\n",
       "      <td>3.495835</td>\n",
       "      <td>2.477794</td>\n",
       "      <td>20.854532</td>\n",
       "    </tr>\n",
       "    <tr>\n",
       "      <th rowspan=\"2\" valign=\"top\">9998</th>\n",
       "      <th>0</th>\n",
       "      <td>2</td>\n",
       "      <td>1</td>\n",
       "      <td>13</td>\n",
       "      <td>1.858110</td>\n",
       "      <td>3.772959</td>\n",
       "      <td>518.074951</td>\n",
       "      <td>0.103858</td>\n",
       "      <td>-1.015788</td>\n",
       "      <td>72.046440</td>\n",
       "      <td>1.021083</td>\n",
       "      <td>4.949644</td>\n",
       "      <td>-1.468906</td>\n",
       "      <td>72.053749</td>\n",
       "    </tr>\n",
       "    <tr>\n",
       "      <th>1</th>\n",
       "      <td>2</td>\n",
       "      <td>2</td>\n",
       "      <td>-13</td>\n",
       "      <td>1.858110</td>\n",
       "      <td>3.772959</td>\n",
       "      <td>518.074951</td>\n",
       "      <td>0.305409</td>\n",
       "      <td>1.406300</td>\n",
       "      <td>35.470276</td>\n",
       "      <td>1.439081</td>\n",
       "      <td>3.898249</td>\n",
       "      <td>1.356945</td>\n",
       "      <td>35.499615</td>\n",
       "    </tr>\n",
       "    <tr>\n",
       "      <th rowspan=\"2\" valign=\"top\">9999</th>\n",
       "      <th>0</th>\n",
       "      <td>2</td>\n",
       "      <td>1</td>\n",
       "      <td>13</td>\n",
       "      <td>4.796869</td>\n",
       "      <td>-2.448056</td>\n",
       "      <td>517.096680</td>\n",
       "      <td>0.269120</td>\n",
       "      <td>-0.491432</td>\n",
       "      <td>63.343220</td>\n",
       "      <td>0.560296</td>\n",
       "      <td>5.421025</td>\n",
       "      <td>-1.069779</td>\n",
       "      <td>63.345787</td>\n",
       "    </tr>\n",
       "    <tr>\n",
       "      <th>1</th>\n",
       "      <td>2</td>\n",
       "      <td>2</td>\n",
       "      <td>-13</td>\n",
       "      <td>4.796869</td>\n",
       "      <td>-2.448056</td>\n",
       "      <td>517.096680</td>\n",
       "      <td>0.396900</td>\n",
       "      <td>-0.126157</td>\n",
       "      <td>1.454799</td>\n",
       "      <td>0.416468</td>\n",
       "      <td>1.963846</td>\n",
       "      <td>-0.307757</td>\n",
       "      <td>1.516921</td>\n",
       "    </tr>\n",
       "  </tbody>\n",
       "</table>\n",
       "<p>20000 rows × 13 columns</p>\n",
       "</div>"
      ],
      "text/plain": [
       "                n_primaries  gtrkid  gpid       gvx       gvy         gvz  \\\n",
       "entry subentry                                                              \n",
       "0     0                   2       1    13  0.731090  4.326594  516.291016   \n",
       "      1                   2       2   -13  0.731090  4.326594  516.291016   \n",
       "1     0                   2       1    13 -0.959421  3.061176  594.720093   \n",
       "      1                   2       2   -13 -0.959421  3.061176  594.720093   \n",
       "2     0                   2       1    13  4.664356  3.092542  548.497375   \n",
       "...                     ...     ...   ...       ...       ...         ...   \n",
       "9997  1                   2       2   -13 -0.118784  4.226844  529.926147   \n",
       "9998  0                   2       1    13  1.858110  3.772959  518.074951   \n",
       "      1                   2       2   -13  1.858110  3.772959  518.074951   \n",
       "9999  0                   2       1    13  4.796869 -2.448056  517.096680   \n",
       "      1                   2       2   -13  4.796869 -2.448056  517.096680   \n",
       "\n",
       "                     gpx       gpy        gpz       gpt      geta      gphi  \\\n",
       "entry subentry                                                                \n",
       "0     0        -1.038075 -0.087468  16.827839  1.041754  3.476233 -3.057532   \n",
       "      1         1.214156  0.647821  68.129562  1.376171  4.595356  0.490131   \n",
       "1     0         0.013142 -1.242140  60.504372  1.242209  4.579077 -1.560216   \n",
       "      1        -0.196807  1.445283  47.492329  1.458622  4.176459  1.706136   \n",
       "2     0         1.026343  0.590484  15.555848  1.184083  3.270061  0.522081   \n",
       "...                  ...       ...        ...       ...       ...       ...   \n",
       "9997  1        -0.995270  0.778510  20.815948  1.263583  3.495835  2.477794   \n",
       "9998  0         0.103858 -1.015788  72.046440  1.021083  4.949644 -1.468906   \n",
       "      1         0.305409  1.406300  35.470276  1.439081  3.898249  1.356945   \n",
       "9999  0         0.269120 -0.491432  63.343220  0.560296  5.421025 -1.069779   \n",
       "      1         0.396900 -0.126157   1.454799  0.416468  1.963846 -0.307757   \n",
       "\n",
       "                       ge  \n",
       "entry subentry             \n",
       "0     0         16.860384  \n",
       "      1         68.143547  \n",
       "1     0         60.517212  \n",
       "      1         47.514843  \n",
       "2     0         15.601206  \n",
       "...                   ...  \n",
       "9997  1         20.854532  \n",
       "9998  0         72.053749  \n",
       "      1         35.499615  \n",
       "9999  0         63.345787  \n",
       "      1          1.516921  \n",
       "\n",
       "[20000 rows x 13 columns]"
      ]
     },
     "execution_count": 8,
     "metadata": {},
     "output_type": "execute_result"
    }
   ],
   "source": [
    "df"
   ]
  },
  {
   "cell_type": "markdown",
   "metadata": {},
   "source": [
    "From this dataframe we see that this file contains information from 10,000 simulated events, each event has two different primary particles (in this case they are the leptons).\n",
    "\n",
    "Here, we have selected arrays that contain truth information from the simulation (i.e. particles that were generated in the simulation and what their vertex (`gvx`,`gvy`,`gvz`), momenta (`gpx`,`gpy`,`gpz`,`gpt`), angles (`geta`,`gphi`) and energies (`ge`) are."
   ]
  },
  {
   "cell_type": "markdown",
   "metadata": {},
   "source": [
    "Now, let's look at detector hits."
   ]
  },
  {
   "cell_type": "code",
   "execution_count": 9,
   "metadata": {},
   "outputs": [
    {
     "data": {
      "text/html": [
       "<div>\n",
       "<style scoped>\n",
       "    .dataframe tbody tr th:only-of-type {\n",
       "        vertical-align: middle;\n",
       "    }\n",
       "\n",
       "    .dataframe tbody tr th {\n",
       "        vertical-align: top;\n",
       "    }\n",
       "\n",
       "    .dataframe thead th {\n",
       "        text-align: right;\n",
       "    }\n",
       "</style>\n",
       "<table border=\"1\" class=\"dataframe\">\n",
       "  <thead>\n",
       "    <tr style=\"text-align: right;\">\n",
       "      <th></th>\n",
       "      <th></th>\n",
       "      <th>eventID</th>\n",
       "      <th>n_hits</th>\n",
       "      <th>hit_detID</th>\n",
       "      <th>hit_elmID</th>\n",
       "      <th>hit_trkID</th>\n",
       "      <th>hit_driftdis</th>\n",
       "      <th>hit_pos</th>\n",
       "      <th>hit_edep</th>\n",
       "      <th>hit_truthx</th>\n",
       "      <th>hit_truthy</th>\n",
       "      <th>hit_truthz</th>\n",
       "      <th>hit_truthpx</th>\n",
       "      <th>hit_truthpy</th>\n",
       "      <th>hit_truthpz</th>\n",
       "    </tr>\n",
       "    <tr>\n",
       "      <th>entry</th>\n",
       "      <th>subentry</th>\n",
       "      <th></th>\n",
       "      <th></th>\n",
       "      <th></th>\n",
       "      <th></th>\n",
       "      <th></th>\n",
       "      <th></th>\n",
       "      <th></th>\n",
       "      <th></th>\n",
       "      <th></th>\n",
       "      <th></th>\n",
       "      <th></th>\n",
       "      <th></th>\n",
       "      <th></th>\n",
       "      <th></th>\n",
       "    </tr>\n",
       "  </thead>\n",
       "  <tbody>\n",
       "    <tr>\n",
       "      <th rowspan=\"5\" valign=\"top\">0</th>\n",
       "      <th>0</th>\n",
       "      <td>1</td>\n",
       "      <td>81</td>\n",
       "      <td>1</td>\n",
       "      <td>96</td>\n",
       "      <td>1</td>\n",
       "      <td>0.111183</td>\n",
       "      <td>-3.190937</td>\n",
       "      <td>3.402823e+38</td>\n",
       "      <td>-4.127456</td>\n",
       "      <td>3.927811</td>\n",
       "      <td>594.582153</td>\n",
       "      <td>-1.045959</td>\n",
       "      <td>-0.085473</td>\n",
       "      <td>16.816214</td>\n",
       "    </tr>\n",
       "    <tr>\n",
       "      <th>1</th>\n",
       "      <td>1</td>\n",
       "      <td>81</td>\n",
       "      <td>1</td>\n",
       "      <td>106</td>\n",
       "      <td>2</td>\n",
       "      <td>0.115182</td>\n",
       "      <td>3.159063</td>\n",
       "      <td>3.402823e+38</td>\n",
       "      <td>2.131963</td>\n",
       "      <td>5.073593</td>\n",
       "      <td>594.582153</td>\n",
       "      <td>1.221706</td>\n",
       "      <td>0.650265</td>\n",
       "      <td>68.121414</td>\n",
       "    </tr>\n",
       "    <tr>\n",
       "      <th>2</th>\n",
       "      <td>1</td>\n",
       "      <td>81</td>\n",
       "      <td>2</td>\n",
       "      <td>97</td>\n",
       "      <td>1</td>\n",
       "      <td>-0.287679</td>\n",
       "      <td>-2.830358</td>\n",
       "      <td>3.402823e+38</td>\n",
       "      <td>-4.167016</td>\n",
       "      <td>3.924578</td>\n",
       "      <td>595.218140</td>\n",
       "      <td>-1.045990</td>\n",
       "      <td>-0.085473</td>\n",
       "      <td>16.816212</td>\n",
       "    </tr>\n",
       "    <tr>\n",
       "      <th>3</th>\n",
       "      <td>1</td>\n",
       "      <td>81</td>\n",
       "      <td>2</td>\n",
       "      <td>107</td>\n",
       "      <td>2</td>\n",
       "      <td>-0.232807</td>\n",
       "      <td>3.519642</td>\n",
       "      <td>3.402823e+38</td>\n",
       "      <td>2.143409</td>\n",
       "      <td>5.079664</td>\n",
       "      <td>595.218140</td>\n",
       "      <td>1.221738</td>\n",
       "      <td>0.650265</td>\n",
       "      <td>68.121414</td>\n",
       "    </tr>\n",
       "    <tr>\n",
       "      <th>4</th>\n",
       "      <td>1</td>\n",
       "      <td>81</td>\n",
       "      <td>5</td>\n",
       "      <td>91</td>\n",
       "      <td>1</td>\n",
       "      <td>-0.010118</td>\n",
       "      <td>-7.651309</td>\n",
       "      <td>3.402823e+38</td>\n",
       "      <td>-6.982916</td>\n",
       "      <td>3.695446</td>\n",
       "      <td>640.444397</td>\n",
       "      <td>-1.047919</td>\n",
       "      <td>-0.084797</td>\n",
       "      <td>16.816000</td>\n",
       "    </tr>\n",
       "    <tr>\n",
       "      <th>...</th>\n",
       "      <th>...</th>\n",
       "      <td>...</td>\n",
       "      <td>...</td>\n",
       "      <td>...</td>\n",
       "      <td>...</td>\n",
       "      <td>...</td>\n",
       "      <td>...</td>\n",
       "      <td>...</td>\n",
       "      <td>...</td>\n",
       "      <td>...</td>\n",
       "      <td>...</td>\n",
       "      <td>...</td>\n",
       "      <td>...</td>\n",
       "      <td>...</td>\n",
       "      <td>...</td>\n",
       "    </tr>\n",
       "    <tr>\n",
       "      <th rowspan=\"5\" valign=\"top\">9999</th>\n",
       "      <th>42</th>\n",
       "      <td>10000</td>\n",
       "      <td>47</td>\n",
       "      <td>48</td>\n",
       "      <td>34</td>\n",
       "      <td>1</td>\n",
       "      <td>-1.486711</td>\n",
       "      <td>-14.992618</td>\n",
       "      <td>3.402823e+38</td>\n",
       "      <td>4.934025</td>\n",
       "      <td>-15.257770</td>\n",
       "      <td>2102.530029</td>\n",
       "      <td>-0.121667</td>\n",
       "      <td>-0.673851</td>\n",
       "      <td>61.737061</td>\n",
       "    </tr>\n",
       "    <tr>\n",
       "      <th>43</th>\n",
       "      <td>10000</td>\n",
       "      <td>47</td>\n",
       "      <td>51</td>\n",
       "      <td>38</td>\n",
       "      <td>1</td>\n",
       "      <td>-1.498852</td>\n",
       "      <td>6.589410</td>\n",
       "      <td>3.402823e+38</td>\n",
       "      <td>4.423826</td>\n",
       "      <td>-18.145279</td>\n",
       "      <td>2367.040039</td>\n",
       "      <td>-0.117996</td>\n",
       "      <td>-0.673058</td>\n",
       "      <td>61.728226</td>\n",
       "    </tr>\n",
       "    <tr>\n",
       "      <th>44</th>\n",
       "      <td>10000</td>\n",
       "      <td>47</td>\n",
       "      <td>52</td>\n",
       "      <td>38</td>\n",
       "      <td>1</td>\n",
       "      <td>1.032767</td>\n",
       "      <td>4.049410</td>\n",
       "      <td>3.402823e+38</td>\n",
       "      <td>4.415415</td>\n",
       "      <td>-18.193256</td>\n",
       "      <td>2371.439941</td>\n",
       "      <td>-0.117990</td>\n",
       "      <td>-0.673098</td>\n",
       "      <td>61.728226</td>\n",
       "    </tr>\n",
       "    <tr>\n",
       "      <th>45</th>\n",
       "      <td>10000</td>\n",
       "      <td>47</td>\n",
       "      <td>53</td>\n",
       "      <td>33</td>\n",
       "      <td>1</td>\n",
       "      <td>-2.086141</td>\n",
       "      <td>-17.925121</td>\n",
       "      <td>3.402823e+38</td>\n",
       "      <td>4.380872</td>\n",
       "      <td>-18.390297</td>\n",
       "      <td>2389.510010</td>\n",
       "      <td>-0.118107</td>\n",
       "      <td>-0.673094</td>\n",
       "      <td>61.728199</td>\n",
       "    </tr>\n",
       "    <tr>\n",
       "      <th>46</th>\n",
       "      <td>10000</td>\n",
       "      <td>47</td>\n",
       "      <td>54</td>\n",
       "      <td>33</td>\n",
       "      <td>1</td>\n",
       "      <td>0.405799</td>\n",
       "      <td>-20.465122</td>\n",
       "      <td>3.402823e+38</td>\n",
       "      <td>4.372458</td>\n",
       "      <td>-18.438276</td>\n",
       "      <td>2393.909912</td>\n",
       "      <td>-0.117978</td>\n",
       "      <td>-0.673227</td>\n",
       "      <td>61.728195</td>\n",
       "    </tr>\n",
       "  </tbody>\n",
       "</table>\n",
       "<p>585978 rows × 14 columns</p>\n",
       "</div>"
      ],
      "text/plain": [
       "                eventID  n_hits  hit_detID  hit_elmID  hit_trkID  \\\n",
       "entry subentry                                                     \n",
       "0     0               1      81          1         96          1   \n",
       "      1               1      81          1        106          2   \n",
       "      2               1      81          2         97          1   \n",
       "      3               1      81          2        107          2   \n",
       "      4               1      81          5         91          1   \n",
       "...                 ...     ...        ...        ...        ...   \n",
       "9999  42          10000      47         48         34          1   \n",
       "      43          10000      47         51         38          1   \n",
       "      44          10000      47         52         38          1   \n",
       "      45          10000      47         53         33          1   \n",
       "      46          10000      47         54         33          1   \n",
       "\n",
       "                hit_driftdis    hit_pos      hit_edep  hit_truthx  hit_truthy  \\\n",
       "entry subentry                                                                  \n",
       "0     0             0.111183  -3.190937  3.402823e+38   -4.127456    3.927811   \n",
       "      1             0.115182   3.159063  3.402823e+38    2.131963    5.073593   \n",
       "      2            -0.287679  -2.830358  3.402823e+38   -4.167016    3.924578   \n",
       "      3            -0.232807   3.519642  3.402823e+38    2.143409    5.079664   \n",
       "      4            -0.010118  -7.651309  3.402823e+38   -6.982916    3.695446   \n",
       "...                      ...        ...           ...         ...         ...   \n",
       "9999  42           -1.486711 -14.992618  3.402823e+38    4.934025  -15.257770   \n",
       "      43           -1.498852   6.589410  3.402823e+38    4.423826  -18.145279   \n",
       "      44            1.032767   4.049410  3.402823e+38    4.415415  -18.193256   \n",
       "      45           -2.086141 -17.925121  3.402823e+38    4.380872  -18.390297   \n",
       "      46            0.405799 -20.465122  3.402823e+38    4.372458  -18.438276   \n",
       "\n",
       "                 hit_truthz  hit_truthpx  hit_truthpy  hit_truthpz  \n",
       "entry subentry                                                      \n",
       "0     0          594.582153    -1.045959    -0.085473    16.816214  \n",
       "      1          594.582153     1.221706     0.650265    68.121414  \n",
       "      2          595.218140    -1.045990    -0.085473    16.816212  \n",
       "      3          595.218140     1.221738     0.650265    68.121414  \n",
       "      4          640.444397    -1.047919    -0.084797    16.816000  \n",
       "...                     ...          ...          ...          ...  \n",
       "9999  42        2102.530029    -0.121667    -0.673851    61.737061  \n",
       "      43        2367.040039    -0.117996    -0.673058    61.728226  \n",
       "      44        2371.439941    -0.117990    -0.673098    61.728226  \n",
       "      45        2389.510010    -0.118107    -0.673094    61.728199  \n",
       "      46        2393.909912    -0.117978    -0.673227    61.728195  \n",
       "\n",
       "[585978 rows x 14 columns]"
      ]
     },
     "execution_count": 9,
     "metadata": {},
     "output_type": "execute_result"
    }
   ],
   "source": [
    "df = events.arrays(['eventID','n_hits', 'hit_detID', 'hit_elmID', 'hit_trkID', 'hit_driftdis', 'hit_pos', 'hit_edep', 'hit_truthx', 'hit_truthy', 'hit_truthz', 'hit_truthpx', 'hit_truthpy', 'hit_truthpz'],\n",
    "                   library=\"pd\")\n",
    "df"
   ]
  },
  {
   "cell_type": "code",
   "execution_count": 10,
   "metadata": {},
   "outputs": [
    {
     "data": {
      "text/html": [
       "<div>\n",
       "<style scoped>\n",
       "    .dataframe tbody tr th:only-of-type {\n",
       "        vertical-align: middle;\n",
       "    }\n",
       "\n",
       "    .dataframe tbody tr th {\n",
       "        vertical-align: top;\n",
       "    }\n",
       "\n",
       "    .dataframe thead th {\n",
       "        text-align: right;\n",
       "    }\n",
       "</style>\n",
       "<table border=\"1\" class=\"dataframe\">\n",
       "  <thead>\n",
       "    <tr style=\"text-align: right;\">\n",
       "      <th></th>\n",
       "      <th></th>\n",
       "      <th>eventID</th>\n",
       "      <th>n_hits</th>\n",
       "      <th>hit_detID</th>\n",
       "      <th>hit_elmID</th>\n",
       "      <th>hit_trkID</th>\n",
       "      <th>hit_driftdis</th>\n",
       "      <th>hit_pos</th>\n",
       "      <th>hit_edep</th>\n",
       "      <th>hit_truthx</th>\n",
       "      <th>hit_truthy</th>\n",
       "      <th>hit_truthz</th>\n",
       "      <th>hit_truthpx</th>\n",
       "      <th>hit_truthpy</th>\n",
       "      <th>hit_truthpz</th>\n",
       "    </tr>\n",
       "    <tr>\n",
       "      <th>entry</th>\n",
       "      <th>subentry</th>\n",
       "      <th></th>\n",
       "      <th></th>\n",
       "      <th></th>\n",
       "      <th></th>\n",
       "      <th></th>\n",
       "      <th></th>\n",
       "      <th></th>\n",
       "      <th></th>\n",
       "      <th></th>\n",
       "      <th></th>\n",
       "      <th></th>\n",
       "      <th></th>\n",
       "      <th></th>\n",
       "      <th></th>\n",
       "    </tr>\n",
       "  </thead>\n",
       "  <tbody>\n",
       "    <tr>\n",
       "      <th rowspan=\"11\" valign=\"top\">0</th>\n",
       "      <th>0</th>\n",
       "      <td>1</td>\n",
       "      <td>81</td>\n",
       "      <td>1</td>\n",
       "      <td>96</td>\n",
       "      <td>1</td>\n",
       "      <td>0.111183</td>\n",
       "      <td>-3.190937</td>\n",
       "      <td>3.402823e+38</td>\n",
       "      <td>-4.127456</td>\n",
       "      <td>3.927811</td>\n",
       "      <td>594.582153</td>\n",
       "      <td>-1.045959</td>\n",
       "      <td>-0.085473</td>\n",
       "      <td>16.816214</td>\n",
       "    </tr>\n",
       "    <tr>\n",
       "      <th>1</th>\n",
       "      <td>1</td>\n",
       "      <td>81</td>\n",
       "      <td>1</td>\n",
       "      <td>106</td>\n",
       "      <td>2</td>\n",
       "      <td>0.115182</td>\n",
       "      <td>3.159063</td>\n",
       "      <td>3.402823e+38</td>\n",
       "      <td>2.131963</td>\n",
       "      <td>5.073593</td>\n",
       "      <td>594.582153</td>\n",
       "      <td>1.221706</td>\n",
       "      <td>0.650265</td>\n",
       "      <td>68.121414</td>\n",
       "    </tr>\n",
       "    <tr>\n",
       "      <th>2</th>\n",
       "      <td>1</td>\n",
       "      <td>81</td>\n",
       "      <td>2</td>\n",
       "      <td>97</td>\n",
       "      <td>1</td>\n",
       "      <td>-0.287679</td>\n",
       "      <td>-2.830358</td>\n",
       "      <td>3.402823e+38</td>\n",
       "      <td>-4.167016</td>\n",
       "      <td>3.924578</td>\n",
       "      <td>595.218140</td>\n",
       "      <td>-1.045990</td>\n",
       "      <td>-0.085473</td>\n",
       "      <td>16.816212</td>\n",
       "    </tr>\n",
       "    <tr>\n",
       "      <th>3</th>\n",
       "      <td>1</td>\n",
       "      <td>81</td>\n",
       "      <td>2</td>\n",
       "      <td>107</td>\n",
       "      <td>2</td>\n",
       "      <td>-0.232807</td>\n",
       "      <td>3.519642</td>\n",
       "      <td>3.402823e+38</td>\n",
       "      <td>2.143409</td>\n",
       "      <td>5.079664</td>\n",
       "      <td>595.218140</td>\n",
       "      <td>1.221738</td>\n",
       "      <td>0.650265</td>\n",
       "      <td>68.121414</td>\n",
       "    </tr>\n",
       "    <tr>\n",
       "      <th>4</th>\n",
       "      <td>1</td>\n",
       "      <td>81</td>\n",
       "      <td>5</td>\n",
       "      <td>91</td>\n",
       "      <td>1</td>\n",
       "      <td>-0.010118</td>\n",
       "      <td>-7.651309</td>\n",
       "      <td>3.402823e+38</td>\n",
       "      <td>-6.982916</td>\n",
       "      <td>3.695446</td>\n",
       "      <td>640.444397</td>\n",
       "      <td>-1.047919</td>\n",
       "      <td>-0.084797</td>\n",
       "      <td>16.816000</td>\n",
       "    </tr>\n",
       "    <tr>\n",
       "      <th>...</th>\n",
       "      <td>...</td>\n",
       "      <td>...</td>\n",
       "      <td>...</td>\n",
       "      <td>...</td>\n",
       "      <td>...</td>\n",
       "      <td>...</td>\n",
       "      <td>...</td>\n",
       "      <td>...</td>\n",
       "      <td>...</td>\n",
       "      <td>...</td>\n",
       "      <td>...</td>\n",
       "      <td>...</td>\n",
       "      <td>...</td>\n",
       "      <td>...</td>\n",
       "    </tr>\n",
       "    <tr>\n",
       "      <th>76</th>\n",
       "      <td>1</td>\n",
       "      <td>81</td>\n",
       "      <td>52</td>\n",
       "      <td>45</td>\n",
       "      <td>2</td>\n",
       "      <td>1.846408</td>\n",
       "      <td>40.030220</td>\n",
       "      <td>3.402823e+38</td>\n",
       "      <td>40.822639</td>\n",
       "      <td>22.807175</td>\n",
       "      <td>2371.439941</td>\n",
       "      <td>1.472108</td>\n",
       "      <td>0.783231</td>\n",
       "      <td>66.009827</td>\n",
       "    </tr>\n",
       "    <tr>\n",
       "      <th>77</th>\n",
       "      <td>1</td>\n",
       "      <td>81</td>\n",
       "      <td>53</td>\n",
       "      <td>35</td>\n",
       "      <td>1</td>\n",
       "      <td>-2.154695</td>\n",
       "      <td>-7.765122</td>\n",
       "      <td>3.402823e+38</td>\n",
       "      <td>-146.057892</td>\n",
       "      <td>-8.160709</td>\n",
       "      <td>2389.510010</td>\n",
       "      <td>-1.258943</td>\n",
       "      <td>-0.189702</td>\n",
       "      <td>14.949952</td>\n",
       "    </tr>\n",
       "    <tr>\n",
       "      <th>78</th>\n",
       "      <td>1</td>\n",
       "      <td>81</td>\n",
       "      <td>53</td>\n",
       "      <td>41</td>\n",
       "      <td>2</td>\n",
       "      <td>-1.282427</td>\n",
       "      <td>22.714878</td>\n",
       "      <td>3.402823e+38</td>\n",
       "      <td>41.225677</td>\n",
       "      <td>23.021580</td>\n",
       "      <td>2389.510010</td>\n",
       "      <td>1.472331</td>\n",
       "      <td>0.783138</td>\n",
       "      <td>66.009796</td>\n",
       "    </tr>\n",
       "    <tr>\n",
       "      <th>79</th>\n",
       "      <td>1</td>\n",
       "      <td>81</td>\n",
       "      <td>54</td>\n",
       "      <td>35</td>\n",
       "      <td>1</td>\n",
       "      <td>0.329019</td>\n",
       "      <td>-10.305122</td>\n",
       "      <td>3.402823e+38</td>\n",
       "      <td>-146.428421</td>\n",
       "      <td>-8.216543</td>\n",
       "      <td>2393.909912</td>\n",
       "      <td>-1.258975</td>\n",
       "      <td>-0.189718</td>\n",
       "      <td>14.949947</td>\n",
       "    </tr>\n",
       "    <tr>\n",
       "      <th>80</th>\n",
       "      <td>1</td>\n",
       "      <td>81</td>\n",
       "      <td>54</td>\n",
       "      <td>42</td>\n",
       "      <td>2</td>\n",
       "      <td>-3.769858</td>\n",
       "      <td>25.254877</td>\n",
       "      <td>3.402823e+38</td>\n",
       "      <td>41.323814</td>\n",
       "      <td>23.073780</td>\n",
       "      <td>2393.909912</td>\n",
       "      <td>1.472309</td>\n",
       "      <td>0.783125</td>\n",
       "      <td>66.009796</td>\n",
       "    </tr>\n",
       "  </tbody>\n",
       "</table>\n",
       "<p>81 rows × 14 columns</p>\n",
       "</div>"
      ],
      "text/plain": [
       "                eventID  n_hits  hit_detID  hit_elmID  hit_trkID  \\\n",
       "entry subentry                                                     \n",
       "0     0               1      81          1         96          1   \n",
       "      1               1      81          1        106          2   \n",
       "      2               1      81          2         97          1   \n",
       "      3               1      81          2        107          2   \n",
       "      4               1      81          5         91          1   \n",
       "...                 ...     ...        ...        ...        ...   \n",
       "      76              1      81         52         45          2   \n",
       "      77              1      81         53         35          1   \n",
       "      78              1      81         53         41          2   \n",
       "      79              1      81         54         35          1   \n",
       "      80              1      81         54         42          2   \n",
       "\n",
       "                hit_driftdis    hit_pos      hit_edep  hit_truthx  hit_truthy  \\\n",
       "entry subentry                                                                  \n",
       "0     0             0.111183  -3.190937  3.402823e+38   -4.127456    3.927811   \n",
       "      1             0.115182   3.159063  3.402823e+38    2.131963    5.073593   \n",
       "      2            -0.287679  -2.830358  3.402823e+38   -4.167016    3.924578   \n",
       "      3            -0.232807   3.519642  3.402823e+38    2.143409    5.079664   \n",
       "      4            -0.010118  -7.651309  3.402823e+38   -6.982916    3.695446   \n",
       "...                      ...        ...           ...         ...         ...   \n",
       "      76            1.846408  40.030220  3.402823e+38   40.822639   22.807175   \n",
       "      77           -2.154695  -7.765122  3.402823e+38 -146.057892   -8.160709   \n",
       "      78           -1.282427  22.714878  3.402823e+38   41.225677   23.021580   \n",
       "      79            0.329019 -10.305122  3.402823e+38 -146.428421   -8.216543   \n",
       "      80           -3.769858  25.254877  3.402823e+38   41.323814   23.073780   \n",
       "\n",
       "                 hit_truthz  hit_truthpx  hit_truthpy  hit_truthpz  \n",
       "entry subentry                                                      \n",
       "0     0          594.582153    -1.045959    -0.085473    16.816214  \n",
       "      1          594.582153     1.221706     0.650265    68.121414  \n",
       "      2          595.218140    -1.045990    -0.085473    16.816212  \n",
       "      3          595.218140     1.221738     0.650265    68.121414  \n",
       "      4          640.444397    -1.047919    -0.084797    16.816000  \n",
       "...                     ...          ...          ...          ...  \n",
       "      76        2371.439941     1.472108     0.783231    66.009827  \n",
       "      77        2389.510010    -1.258943    -0.189702    14.949952  \n",
       "      78        2389.510010     1.472331     0.783138    66.009796  \n",
       "      79        2393.909912    -1.258975    -0.189718    14.949947  \n",
       "      80        2393.909912     1.472309     0.783125    66.009796  \n",
       "\n",
       "[81 rows x 14 columns]"
      ]
     },
     "execution_count": 10,
     "metadata": {},
     "output_type": "execute_result"
    }
   ],
   "source": [
    "df[df['eventID']==1]"
   ]
  },
  {
   "cell_type": "markdown",
   "metadata": {},
   "source": [
    "Looking at the first event (`eventID == 1`), we see that 81 hits (`n_hits == 81`) were detected in detectors all throughout the experiment. \n",
    "\n",
    "The sub-detector in which these hits were detected can be inferred from the `hit_detID` variable, and the position of the hit *in* that detector can be determined from the `hit_elmID` variable."
   ]
  },
  {
   "cell_type": "markdown",
   "metadata": {},
   "source": [
    "Each of the variables of the `Events` TTree is a key in the TTree dict, with their values being returned as an array. In the case of the key `n_hits`, the associated value will be an array of length 10,000 - where each element is an integer corresponding to the total number of hits in that event.\n",
    "\n",
    "In order to get the value(s) associated with a key (keys) of this TTree, we need to call the `array` (`arrays`) method on the TTree object:"
   ]
  },
  {
   "cell_type": "code",
   "execution_count": 11,
   "metadata": {
    "ExecuteTime": {
     "end_time": "2021-04-08T16:53:59.599189Z",
     "start_time": "2021-04-08T16:53:59.592338Z"
    }
   },
   "outputs": [
    {
     "data": {
      "text/plain": [
       "<Array [{n_hits: 81}, ... {n_hits: 47}] type='10000 * {\"n_hits\": int32}'>"
      ]
     },
     "execution_count": 11,
     "metadata": {},
     "output_type": "execute_result"
    }
   ],
   "source": [
    "# get an array containing the hit data\n",
    "hits = events.arrays(\"n_hits\")\n",
    "# show the resulting array\n",
    "hits"
   ]
  },
  {
   "cell_type": "code",
   "execution_count": 12,
   "metadata": {
    "ExecuteTime": {
     "end_time": "2021-04-08T16:54:00.504559Z",
     "start_time": "2021-04-08T16:54:00.500417Z"
    }
   },
   "outputs": [
    {
     "name": "stdout",
     "output_type": "stream",
     "text": [
      "10000\n"
     ]
    }
   ],
   "source": [
    "print(len(hits))"
   ]
  },
  {
   "cell_type": "markdown",
   "metadata": {},
   "source": [
    "You could also get the data from two TBranches as well, which is returned as a `dict`:"
   ]
  },
  {
   "cell_type": "markdown",
   "metadata": {},
   "source": [
    "You can now work with this data with the ease of Python!"
   ]
  },
  {
   "cell_type": "code",
   "execution_count": 13,
   "metadata": {
    "ExecuteTime": {
     "end_time": "2021-04-08T16:54:02.132448Z",
     "start_time": "2021-04-08T16:54:02.124785Z"
    }
   },
   "outputs": [
    {
     "data": {
      "text/plain": [
       "<Array [{eventID: 1, ... n_hits: 47}] type='10000 * {\"eventID\": int32, \"n_hits\":...'>"
      ]
     },
     "execution_count": 13,
     "metadata": {},
     "output_type": "execute_result"
    }
   ],
   "source": [
    "# pass namedecode=\"utf-8\" to get rid of the 'b' and get the keys as strings\n",
    "event_hits = events.arrays([\"eventID\", \"n_hits\"])\n",
    "event_hits"
   ]
  },
  {
   "cell_type": "code",
   "execution_count": 14,
   "metadata": {
    "ExecuteTime": {
     "end_time": "2021-04-08T16:54:03.322958Z",
     "start_time": "2021-04-08T16:54:02.983080Z"
    }
   },
   "outputs": [
    {
     "data": {
      "image/png": "[encoded data removed]",
      "text/plain": [
       "<Figure size 576x576 with 1 Axes>"
      ]
     },
     "metadata": {
      "needs_background": "light"
     },
     "output_type": "display_data"
    }
   ],
   "source": [
    "import numpy as np\n",
    "import matplotlib.pyplot as plt\n",
    "import mplhep as hep\n",
    "plt.style.use(hep.style.ROOT)\n",
    "\n",
    "x = event_hits[\"n_hits\"]\n",
    "plt.figure(figsize=(8,8))\n",
    "plt.hist(x,bins='auto',histtype='step');\n",
    "plt.title(\"Number of Hits Across all Events\");\n",
    "plt.xlabel(\"Number of Hits\");\n",
    "plt.ylabel(\"Number of Events\");"
   ]
  },
  {
   "cell_type": "markdown",
   "metadata": {},
   "source": [
    "So far, we just looked at two TBranches which contain integer values (`n_hits` and `eventID`). There is another layer of complexity when you consider a branch that contains a list of values, such as `hit_detID`"
   ]
  },
  {
   "cell_type": "code",
   "execution_count": 15,
   "metadata": {
    "ExecuteTime": {
     "end_time": "2021-04-08T16:54:04.070239Z",
     "start_time": "2021-04-08T16:54:04.029688Z"
    }
   },
   "outputs": [
    {
     "name": "stdout",
     "output_type": "stream",
     "text": [
      "<class 'awkward.highlevel.Array'>\n"
     ]
    }
   ],
   "source": [
    "ev_arrays = events.arrays([\"hit_detID\",\"eventID\"])\n",
    "detID = ev_arrays[\"hit_detID\"]\n",
    "eventID = ev_arrays[\"eventID\"]\n",
    "print(type(detID))\n",
    "detID\n",
    "\n",
    "import awkward as ak"
   ]
  },
  {
   "cell_type": "markdown",
   "metadata": {},
   "source": [
    "The resulting array is a `awkward.highlevel.Array`, which is a data type introduce by the `Awkward` library. These arrays are \"jagged\" or \"awkward\" in that they contain sub arrays of varying sizes. This is because the number of hits in each event differs, and therefore the arrays containing hit information will differ in size."
   ]
  },
  {
   "cell_type": "markdown",
   "metadata": {},
   "source": [
    "Since each array contains hit information from a given event, these nested arrays carry crucial information about each event and therefore must be kept intact. The `awkward` library provides some useful tools for working with jagged arrays, which will be covered in the analysis portion of the tutorial. If you are not interested in keeping information for each event intact, you can `flatten` the array, essentially collapsing all sub-arrays into one large array. This destroys any information specific to a given event, though."
   ]
  },
  {
   "cell_type": "markdown",
   "metadata": {},
   "source": [
    "**Example of event-specific plot:**"
   ]
  },
  {
   "cell_type": "code",
   "execution_count": 16,
   "metadata": {
    "ExecuteTime": {
     "end_time": "2021-04-08T16:54:07.274287Z",
     "start_time": "2021-04-08T16:54:07.095785Z"
    }
   },
   "outputs": [
    {
     "name": "stdout",
     "output_type": "stream",
     "text": [
      "[True, False, False, False, False, False, ... False, False, False, False, False]\n",
      "[... 42, 43, 44, 49, 49, 50, 50, 47, 47, 48, 48, 51, 51, 52, 52, 53, 53, 54, 54]]\n"
     ]
    },
    {
     "data": {
      "image/png": "[encoded data removed]",
      "text/plain": [
       "<Figure size 576x576 with 1 Axes>"
      ]
     },
     "metadata": {
      "needs_background": "light"
     },
     "output_type": "display_data"
    }
   ],
   "source": [
    "# get the hit_detID information from just the first event\n",
    "print(eventID==1)\n",
    "x = detID[eventID==1]\n",
    "print(x)\n",
    "plt.figure(figsize=(8,8))\n",
    "plt.hist(x,bins='auto',histtype='step');\n",
    "plt.title(\"detIDs in Event 0\");\n",
    "plt.xlabel(\"detID\");\n",
    "plt.ylabel(\"Quantity\");"
   ]
  },
  {
   "cell_type": "markdown",
   "metadata": {},
   "source": [
    "**detIDs across *all* 10,000 events:**"
   ]
  },
  {
   "cell_type": "code",
   "execution_count": 17,
   "metadata": {
    "ExecuteTime": {
     "end_time": "2021-04-08T16:54:09.373801Z",
     "start_time": "2021-04-08T16:54:07.887730Z"
    }
   },
   "outputs": [
    {
     "data": {
      "image/png": "[encoded data removed]",
      "text/plain": [
       "<Figure size 576x576 with 1 Axes>"
      ]
     },
     "metadata": {
      "needs_background": "light"
     },
     "output_type": "display_data"
    }
   ],
   "source": [
    "import awkward1 as ak\n",
    "\n",
    "# flatten the jagged array -> all events merged\n",
    "x = ak.flatten(detID)\n",
    "plt.figure(figsize=(8,8))\n",
    "plt.hist(x,bins='auto',histtype='step');\n",
    "plt.title(\"detIDs Across all Events\");\n",
    "plt.xlabel(\"detID\");\n",
    "plt.ylabel(\"Quantity\");"
   ]
  },
  {
   "cell_type": "markdown",
   "metadata": {},
   "source": [
    "These results are fairly meaningless, but serve to highlight the concept of jagged arrays and the structure of the TTree and its branches"
   ]
  },
  {
   "cell_type": "markdown",
   "metadata": {},
   "source": [
    "# Simple Analysis"
   ]
  },
  {
   "cell_type": "markdown",
   "metadata": {},
   "source": [
    "This analysis will demonstrate how to operate on TTrees and their branches to make plots. Namely, it will demonstrate how to speed up analysis by applying masks to the data which capture only the information of interest. By applying a mask to a `JaggedArray`, one can select data far more efficiently than by looping over each array, making analysis much faster (almost as fast as ROOT C++).\n",
    "\n",
    "Specifically, we will take a look at total hits in several of the detectors in the simulated experiment and make a cool 2D histogram of their distributions.\n",
    "\n",
    "Starting from the beginning (opening the file, reading contents):"
   ]
  },
  {
   "cell_type": "code",
   "execution_count": 18,
   "metadata": {
    "ExecuteTime": {
     "end_time": "2021-04-08T16:57:02.219285Z",
     "start_time": "2021-04-08T16:57:02.215575Z"
    }
   },
   "outputs": [],
   "source": [
    "import uproot\n",
    "import numpy as np\n",
    "import matplotlib.pyplot as plt\n",
    "import awkward1 as ak"
   ]
  },
  {
   "cell_type": "code",
   "execution_count": 19,
   "metadata": {
    "ExecuteTime": {
     "end_time": "2021-04-08T16:56:23.693493Z",
     "start_time": "2021-04-08T16:56:23.635100Z"
    }
   },
   "outputs": [],
   "source": [
    "sim = \"data/Sep2/displaced_Aprime_Muons_z500-600/Brem_2.750000_z500_600_eps_-6.4_output.root\"\n",
    "\n",
    "truth = uproot.open(sim)[\"Events\"]"
   ]
  },
  {
   "cell_type": "markdown",
   "metadata": {},
   "source": [
    "Let's get a dictionary which contains all of the relevant information:\n",
    "* The detector ID of the hit \n",
    "* The hit x/y position of the hit - where in the detector the hit was recorded\n",
    "* the z position of the hit - how far along the beamline the hit was detected\n",
    "\n",
    "We will use the `awkward.zip` method, which joins all the data into one handy datatype, where we can specify the variable names we want and call them later."
   ]
  },
  {
   "cell_type": "code",
   "execution_count": 20,
   "metadata": {
    "ExecuteTime": {
     "end_time": "2021-04-08T18:23:35.925926Z",
     "start_time": "2021-04-08T18:23:30.326695Z"
    }
   },
   "outputs": [],
   "source": [
    "# depth_limit=1 preserves the sub structure of the arrays\n",
    "hits = ak.zip({\"detID\": truth[\"hit_detID\"].array(),\n",
    "               \"x\": truth[\"hit_truthx\"].array(),\n",
    "               \"y\": truth[\"hit_truthy\"].array(),\n",
    "               \"z\": truth[\"hit_truthz\"].array()\n",
    "              }, depth_limit=1)"
   ]
  },
  {
   "cell_type": "markdown",
   "metadata": {},
   "source": [
    "We can now access all variables of interest directly from `hits`:"
   ]
  },
  {
   "cell_type": "code",
   "execution_count": 21,
   "metadata": {
    "ExecuteTime": {
     "end_time": "2021-04-08T18:22:36.533603Z",
     "start_time": "2021-04-08T18:22:36.527053Z"
    }
   },
   "outputs": [
    {
     "data": {
      "text/plain": [
       "<Array [[1, 1, 2, 2, 5, ... 51, 52, 53, 54]] type='10000 * var * int32'>"
      ]
     },
     "execution_count": 21,
     "metadata": {},
     "output_type": "execute_result"
    }
   ],
   "source": [
    "# an array of 10,000 arrays, one for each event\n",
    "hits.detID"
   ]
  },
  {
   "cell_type": "markdown",
   "metadata": {},
   "source": [
    "The detectors we are interested in are the hodoscopes, each belonging to a different station based on their z-position in the experiment (their distance along the beamline):\n",
    "![SpinQuest/DarkQuest Layout](SpinQuestLayout.JPG)"
   ]
  },
  {
   "cell_type": "markdown",
   "metadata": {},
   "source": [
    "The detector IDs of each of the hodoscopes are given [here:](https://github.com/cmantill/DarkQuest/blob/master/e1039-analysis/DataHits/exe/dataTuple.cxx#L75)\n",
    "```\n",
    "\t    // detector ID refers to the detector number as seen here:\n",
    "\t    // st1-drift chambers| D0: 1-6, D1: 7-12\n",
    "\t    // st2-drift chambers| D2: 13-18\n",
    "\t    // st3-drift chambers| D3p: 19-24, D3m: 25-30\n",
    "\t    // h1-hodoscope: H1B/T: 31/22 H1L/R: 33/34\n",
    "\t    // h2-hodoscope: H2L/R: 35/36 H2B/T: 37/38\n",
    "\t    // h3-hodoscope: H3B/T: 39/40\n",
    "\t    // h4-hodoscope: H4Y1L/R: 41/42 H4Y2L/R: 43/44 H4B/T: 45/46\n",
    "\t    // proto-tubes: 47-54\n",
    "\t    // dp-stations: DP1:55-58, DP2:59-6 \n",
    "```\n",
    "\n",
    "So we will look at data from all the hodoscopes, masking for z-position which will tell us which station the hit belongs to. "
   ]
  },
  {
   "cell_type": "markdown",
   "metadata": {},
   "source": [
    "**Hodoscope Mask:**\n",
    "\n",
    "The first mask will act to select for all hodoscopes by applying logical conditions to the `detID` parameter of our new `hits` array that we created earlier. The really useful thing about `awkward` and this masking technique is that if you feed the masking function an array of arrays, it will return a boolean array of the same dimensions, with the logical conditions satisfied. "
   ]
  },
  {
   "cell_type": "code",
   "execution_count": 22,
   "metadata": {
    "ExecuteTime": {
     "end_time": "2021-04-08T18:22:37.757899Z",
     "start_time": "2021-04-08T18:22:37.753463Z"
    }
   },
   "outputs": [],
   "source": [
    "def hodoMask(arr):\n",
    "    '''\n",
    "    pass an array\n",
    "    returns a mask fitted to all sub arrays\n",
    "    '''\n",
    "    # hodoscope detIDs range from 31 to 46 (see above)\n",
    "    mask = (arr.detID >= 31) & (arr.detID <= 46)\n",
    "    return mask"
   ]
  },
  {
   "cell_type": "markdown",
   "metadata": {},
   "source": [
    "Let's see the action of this masking function:"
   ]
  },
  {
   "cell_type": "code",
   "execution_count": 23,
   "metadata": {
    "ExecuteTime": {
     "end_time": "2021-04-08T18:22:38.551047Z",
     "start_time": "2021-04-08T18:22:38.540553Z"
    }
   },
   "outputs": [
    {
     "data": {
      "text/plain": [
       "<Array [[False, False, ... False, False]] type='10000 * var * bool'>"
      ]
     },
     "execution_count": 23,
     "metadata": {},
     "output_type": "execute_result"
    }
   ],
   "source": [
    "# pass the hits array to our function\n",
    "hodos = hodoMask(hits)\n",
    "hodos"
   ]
  },
  {
   "cell_type": "markdown",
   "metadata": {},
   "source": [
    "Now, look at the actual values of `hodos` compared to our `hits` master array:"
   ]
  },
  {
   "cell_type": "code",
   "execution_count": 24,
   "metadata": {
    "ExecuteTime": {
     "end_time": "2021-04-08T18:22:39.689221Z",
     "start_time": "2021-04-08T18:22:39.683098Z"
    }
   },
   "outputs": [
    {
     "name": "stdout",
     "output_type": "stream",
     "text": [
      "[False, False, False, False, False, False, ... False, False, False, False, False]\n",
      "[1, 1, 2, 2, 5, 5, 6, 6, 3, 3, 4, 4, ... 47, 48, 48, 51, 51, 52, 52, 53, 53, 54, 54]\n"
     ]
    }
   ],
   "source": [
    "# look at the hit detectorIDs of the first event:\n",
    "print(hodos[0])\n",
    "print(hits.detID[0])"
   ]
  },
  {
   "cell_type": "markdown",
   "metadata": {},
   "source": [
    "Just from this, you can see that the `hodoMask` function acted over **all** sub-arrays of the `hits` array to reveal which hits are actually in the hodoscopes. This is further illustrated below, but play around with these masks to convince yourself of this behavior."
   ]
  },
  {
   "cell_type": "code",
   "execution_count": 25,
   "metadata": {
    "ExecuteTime": {
     "end_time": "2021-04-08T18:22:41.309285Z",
     "start_time": "2021-04-08T18:22:41.297486Z"
    }
   },
   "outputs": [
    {
     "name": "stdout",
     "output_type": "stream",
     "text": [
      "16/81 of the hits in event 0 were in the hodoscopes\n",
      "\n",
      "\thit 1/14 had detID 33\n",
      "\thit 2/14 had detID 34\n",
      "\thit 3/14 had detID 32\n",
      "\thit 4/14 had detID 32\n",
      "\thit 5/14 had detID 37\n",
      "\thit 6/14 had detID 35\n",
      "\thit 7/14 had detID 36\n",
      "\thit 8/14 had detID 38\n",
      "\thit 9/14 had detID 39\n",
      "\thit 10/14 had detID 40\n",
      "\thit 11/14 had detID 45\n",
      "\thit 12/14 had detID 46\n",
      "\thit 13/14 had detID 41\n",
      "\thit 14/14 had detID 42\n",
      "\thit 15/14 had detID 43\n",
      "\thit 16/14 had detID 44\n"
     ]
    }
   ],
   "source": [
    "print(\"{}/{} of the hits in event 0 were in the hodoscopes\\n\".format(ak.sum(hodos[0]), len(hodos[0])))\n",
    "count = 0\n",
    "for i in range(len(hodos[0])):\n",
    "    if hodos[0][i] == True:\n",
    "        count+=1\n",
    "        print(\"\\thit {}/14 had detID {}\".format(count,hits.detID[0][i]))"
   ]
  },
  {
   "cell_type": "markdown",
   "metadata": {},
   "source": [
    "As you can see, the detIDs are all within the range we defined in the `hodoMask` function: $$31\\leq\\text{detID}\\leq46$$\n",
    "\n",
    "This example shows the power of masking - combined with `awkward`, you can select only for data you're interested in over huge numbers of subarrays. Convince yourself of this by looking at some of the other events (elements) in the `hodos` array"
   ]
  },
  {
   "cell_type": "markdown",
   "metadata": {},
   "source": [
    "In order to *apply* the mask, simply enclose the mask in closed brackets after the array to which you are applying the mask:\n",
    "```\n",
    "array[mask]\n",
    "```\n",
    "The array and mask must be of the same dimensions"
   ]
  },
  {
   "cell_type": "code",
   "execution_count": 26,
   "metadata": {
    "ExecuteTime": {
     "end_time": "2021-04-08T18:24:23.225997Z",
     "start_time": "2021-04-08T18:24:23.205339Z"
    }
   },
   "outputs": [
    {
     "name": "stdout",
     "output_type": "stream",
     "text": [
      "[33, 34, 32, 32, 37, 35, 36, 38, 39, 40, 45, 46, 41, 42, 43, 44]\n"
     ]
    }
   ],
   "source": [
    "masked = hits.detID[0][hodos[0]]\n",
    "print(masked)"
   ]
  },
  {
   "cell_type": "markdown",
   "metadata": {},
   "source": [
    "**Station Mask:**\n",
    "\n",
    "This mask will give us the station in which the hit was recorded based on the z-position of the hit. We will use the following as criteria:\n",
    "* station 1 : $500 < z < 1000$\n",
    "* station 2 : $1200 < z < 1600$\n",
    "* station 3 : $z > 2000$"
   ]
  },
  {
   "cell_type": "code",
   "execution_count": 27,
   "metadata": {
    "ExecuteTime": {
     "end_time": "2021-04-08T18:14:51.366610Z",
     "start_time": "2021-04-08T18:14:51.361637Z"
    }
   },
   "outputs": [],
   "source": [
    "def stationMask(arr, zmin, zmax):\n",
    "    mask = (arr.z > zmin) & (arr.z < zmax)\n",
    "    return mask"
   ]
  },
  {
   "cell_type": "markdown",
   "metadata": {},
   "source": [
    "**Combining the masks:**\n",
    "\n",
    "Now that we can select for our detectors of interest (the hodoscopes) and the station where the hit took place (station 1/2/4), we can combine them using a logical and (`&`). This will provide an array of arrays where each element is true *if and only if* both masking criteria are satisfied.\n",
    "\n",
    "So, let's say that we want to look at the hits in the station 1 hodoscopes:"
   ]
  },
  {
   "cell_type": "code",
   "execution_count": 28,
   "metadata": {
    "ExecuteTime": {
     "end_time": "2021-04-08T18:50:24.610426Z",
     "start_time": "2021-04-08T18:50:24.297945Z"
    }
   },
   "outputs": [
    {
     "data": {
      "image/png": "[encoded data removed]",
      "text/plain": [
       "<Figure size 576x576 with 2 Axes>"
      ]
     },
     "metadata": {
      "needs_background": "light"
     },
     "output_type": "display_data"
    }
   ],
   "source": [
    "# mask for hodoscopes\n",
    "hodo_mask = hodoMask(hits)\n",
    "\n",
    "# mask for station 1\n",
    "st1_mask = stationMask(hits, 500, 1000)\n",
    "\n",
    "# combine the masks\n",
    "hodo_st_mask = hodo_mask & st1_mask\n",
    "\n",
    "# apply the double mask to all our data\n",
    "result = hits[hodo_st_mask]\n",
    "\n",
    "# get the x and y hits \n",
    "x = result.x\n",
    "y = result.y\n",
    "\n",
    "# at this point, x and y are 10,000 element arrays, one element per event\n",
    "# let's flatten them and get the hits over all events\n",
    "x = ak.flatten(x)\n",
    "y = ak.flatten(y)\n",
    "\n",
    "# now convert them from awkward HighLevelArrays to numpy arrays for plotting\n",
    "x = ak.to_numpy(x)\n",
    "y = ak.to_numpy(y)\n",
    "\n",
    "# the above three steps can be simplified to just:\n",
    "x = ak.to_numpy(ak.flatten(result.x))\n",
    "y = ak.to_numpy(ak.flatten(result.y))\n",
    "\n",
    "# plot!\n",
    "plt.figure(figsize=(8,8))\n",
    "plt.hist2d(x,y,range=[[-50,50],[-50,50]], bins=40);\n",
    "plt.title(\"Total Hits in Station 1 Hodoscopes\");\n",
    "plt.xlabel(\"x [cm]\");\n",
    "plt.ylabel(\"y [cm]\");\n",
    "plt.colorbar();"
   ]
  },
  {
   "cell_type": "markdown",
   "metadata": {},
   "source": [
    "**Putting it all together:**\n",
    "\n",
    "Let's organize all the functions and methods into one cell so that it's easy to see how they all fit together and can be used in conjunction to select relevant data and plot it. "
   ]
  },
  {
   "cell_type": "code",
   "execution_count": 29,
   "metadata": {
    "ExecuteTime": {
     "end_time": "2021-04-08T19:16:49.137025Z",
     "start_time": "2021-04-08T19:16:43.371631Z"
    }
   },
   "outputs": [],
   "source": [
    "# file reading\n",
    "sim = \"data/Sep2/displaced_Aprime_Muons_z500-600/Brem_2.750000_z500_600_eps_-6.4_output.root\"\n",
    "truth = uproot.open(sim)[\"Events\"]\n",
    "\n",
    "# gather the relevant variables in a simple data structure\n",
    "hits = ak.zip({\"detID\": truth[\"hit_detID\"].array(),\n",
    "               \"x\": truth[\"hit_truthx\"].array(),\n",
    "               \"y\": truth[\"hit_truthy\"].array(),\n",
    "               \"z\": truth[\"hit_truthz\"].array()}, depth_limit=1)\n",
    "\n",
    "# hodoscope mask\n",
    "def hodoMask(arr):\n",
    "    mask = (arr.detID >= 31) & (arr.detID <= 46)\n",
    "    return mask\n",
    "\n",
    "# station mask\n",
    "def stationMask(arr, zmin, zmax):\n",
    "    mask = (arr.z > zmin) & (arr.z < zmax)\n",
    "    return mask\n",
    "\n",
    "# plotting routine\n",
    "def plotHodos(arr):\n",
    "    # get the hodoscope mask\n",
    "    hodo_mask = hodoMask(arr)\n",
    "    # get the station masks\n",
    "    st1_mask = stationMask(arr, 500, 1000)\n",
    "    st2_mask = stationMask(arr, 1200, 1600)\n",
    "    st4_mask = stationMask(arr, 2000, 10000)\n",
    "    \n",
    "    # combine the masks \n",
    "    st1_hodo_mask = hodo_mask & st1_mask\n",
    "    st2_hodo_mask = hodo_mask & st2_mask\n",
    "    st4_hodo_mask = hodo_mask & st4_mask\n",
    "    \n",
    "    # apply the masks \n",
    "    st1_hits = arr[st1_hodo_mask]\n",
    "    st2_hits = arr[st2_hodo_mask]\n",
    "    st4_hits = arr[st4_hodo_mask]\n",
    "    \n",
    "    # make a dict so we can loop over for plotting\n",
    "    stations = {\"Station 1\" : st1_hits,\n",
    "                \"Station 2\" : st2_hits,\n",
    "                \"Station 4\" : st4_hits}\n",
    "    \n",
    "    # plotting routine\n",
    "    for station in stations.keys():\n",
    "        hits = stations[station]\n",
    "        # get the x/y positions of the hits in the given station\n",
    "        x = ak.to_numpy(ak.flatten(hits.x))\n",
    "        y = ak.to_numpy(ak.flatten(hits.y))\n",
    "        \n",
    "        # plot\n",
    "        plt.clf()\n",
    "        plt.figure(figsize=(8,8))\n",
    "        plt.hist2d(x,y,range=[[-100,100],[-100,100]],bins=50);\n",
    "        plt.xlabel(\"x [cm]\");\n",
    "        plt.ylabel(\"y [cm]\");\n",
    "        plt.title(\"Total Hits in {}\".format(station));\n",
    "        plt.colorbar();\n",
    "        plt.show()\n",
    "        "
   ]
  },
  {
   "cell_type": "code",
   "execution_count": 30,
   "metadata": {
    "ExecuteTime": {
     "end_time": "2021-04-08T19:16:50.122555Z",
     "start_time": "2021-04-08T19:16:49.374925Z"
    },
    "scrolled": false
   },
   "outputs": [
    {
     "data": {
      "text/plain": [
       "<Figure size 720x720 with 0 Axes>"
      ]
     },
     "metadata": {},
     "output_type": "display_data"
    },
    {
     "data": {
      "image/png": "[encoded data removed]",
      "text/plain": [
       "<Figure size 576x576 with 2 Axes>"
      ]
     },
     "metadata": {
      "needs_background": "light"
     },
     "output_type": "display_data"
    },
    {
     "data": {
      "text/plain": [
       "<Figure size 720x720 with 0 Axes>"
      ]
     },
     "metadata": {},
     "output_type": "display_data"
    },
    {
     "data": {
      "image/png": "[encoded data removed]",
      "text/plain": [
       "<Figure size 576x576 with 2 Axes>"
      ]
     },
     "metadata": {
      "needs_background": "light"
     },
     "output_type": "display_data"
    },
    {
     "data": {
      "text/plain": [
       "<Figure size 720x720 with 0 Axes>"
      ]
     },
     "metadata": {},
     "output_type": "display_data"
    },
    {
     "data": {
      "image/png": "[encoded data removed]",
      "text/plain": [
       "<Figure size 576x576 with 2 Axes>"
      ]
     },
     "metadata": {
      "needs_background": "light"
     },
     "output_type": "display_data"
    }
   ],
   "source": [
    "plotHodos(hits)"
   ]
  },
  {
   "cell_type": "markdown",
   "metadata": {},
   "source": [
    "# Practice "
   ]
  },
  {
   "cell_type": "markdown",
   "metadata": {},
   "source": [
    "For practice, here are a few things you can try:\n",
    "\n",
    "* plot different variables (momenta, ECAL showers, ECAL energy deposits, etc)\n",
    "* Attempt to apply cuts on the data: apply masks that only select events with a certain criteria (i.e only accept events with hits inside a given x/y range)\n",
    "    * Try making the cut such that it only accepts hits in a circular region of the station 1 hodoscopes ($\\sqrt{x^2+y^2}\\leq r$) and then plot the result. You will know you got it right when you only see a well-defined circular hit distribution in the 2D plot"
   ]
  },
  {
   "cell_type": "markdown",
   "metadata": {},
   "source": []
  },
  {
   "cell_type": "code",
   "execution_count": null,
   "metadata": {},
   "outputs": [],
   "source": []
  }
 ],
 "metadata": {
  "kernelspec": {
   "display_name": "Python 3",
   "language": "python",
   "name": "python3"
  },
  "language_info": {
   "codemirror_mode": {
    "name": "ipython",
    "version": 3
   },
   "file_extension": ".py",
   "mimetype": "text/x-python",
   "name": "python",
   "nbconvert_exporter": "python",
   "pygments_lexer": "ipython3",
   "version": "3.7.9"
  },
  "toc": {
   "base_numbering": 1,
   "nav_menu": {},
   "number_sections": true,
   "sideBar": true,
   "skip_h1_title": false,
   "title_cell": "Table of Contents",
   "title_sidebar": "Contents",
   "toc_cell": false,
   "toc_position": {},
   "toc_section_display": true,
   "toc_window_display": false
  },
  "varInspector": {
   "cols": {
    "lenName": 16,
    "lenType": 16,
    "lenVar": 40
   },
   "kernels_config": {
    "python": {
     "delete_cmd_postfix": "",
     "delete_cmd_prefix": "del ",
     "library": "var_list.py",
     "varRefreshCmd": "print(var_dic_list())"
    },
    "r": {
     "delete_cmd_postfix": ") ",
     "delete_cmd_prefix": "rm(",
     "library": "var_list.r",
     "varRefreshCmd": "cat(var_dic_list()) "
    }
   },
   "types_to_exclude": [
    "module",
    "function",
    "builtin_function_or_method",
    "instance",
    "_Feature"
   ],
   "window_display": false
  }
 },
 "nbformat": 4,
 "nbformat_minor": 4
}
