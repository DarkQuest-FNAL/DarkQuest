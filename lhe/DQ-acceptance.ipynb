{
 "cells": [
  {
   "cell_type": "markdown",
   "metadata": {},
   "source": [
    "## Possible DarkQuest acceptance\n",
    "\n",
    "Simple contour plots showing reach of darkquest detection of A'-> dileptons.\n",
    "Depends on rates files in `data` directory."
   ]
  },
  {
   "cell_type": "code",
   "execution_count": 1,
   "metadata": {},
   "outputs": [],
   "source": [
    "import math\n",
    "import numpy\n",
    "import os\n",
    "import matplotlib.pyplot as plt\n",
    "import matplotlib.colors\n",
    "import matplotlib.patches as mpatches\n",
    "import random as rand\n",
    "from collections import OrderedDict "
   ]
  },
  {
   "cell_type": "markdown",
   "metadata": {},
   "source": [
    "Parse input file.\n",
    "Takes as input log file from running over available mass/coupling parameter space with the following format:\n",
    "\n",
    "```line format: n_accepted total_events mass eps min_vz max_vz Brem/Eta```"
   ]
  },
  {
   "cell_type": "code",
   "execution_count": 2,
   "metadata": {},
   "outputs": [],
   "source": [
    "class event:\n",
    "    def __init__(self,values):\n",
    "        self._acpE = int(values[0])\n",
    "        self._nEv = int(values[1])\n",
    "        self._mass = float(values[2])\n",
    "        self._eps = float(values[3])\n",
    "        self._minvz = float(values[4])\n",
    "        self._maxvz = float(values[5])\n",
    "        self._mech = str(values[6])\n",
    "        \n",
    "    def getRatio(self):\n",
    "        return(self._acpE/self._nEv)\n",
    "    \n",
    "    def getEps(self):\n",
    "        return self._eps\n",
    "    \n",
    "    def getMass(self):\n",
    "        return self._mass\n",
    "    \n",
    "    def getMech(self):\n",
    "        return self._mech\n",
    "    \n",
    "    def __repr__(self):\n",
    "        return str([self._acpE,self._nEv,self._mass,self._eps,self._minvz,self._maxvz,self._mech])\n",
    "    \n",
    "def parseFile(minVz,maxVz,lep=\"muons\",mech=\"Brem\"):\n",
    "    #line format: n_accepted total_events mass eps min_vz max_vz Brem/Eta \n",
    "    #fileName = \"data/output_%s_%i_%i.txt\"%(lep,minVz,maxVz)\n",
    "    #fileName = \"data/output_%s_%i_%i_v2.txt\"%(lep,minVz,maxVz)\n",
    "    #fileName = \"data/output_%s_%i_%i_v3_2.txt\"%(lep,minVz,maxVz)\n",
    "    fileName = \"data/output_%s_%i_%i_v4.txt\"%(lep,minVz,maxVz)\n",
    "    file = open(fileName)\n",
    "    prevLine = \"\"\n",
    "    spStr = \"\"\n",
    "    eventsList = []\n",
    "    for l in file.readlines():\n",
    "        spStr = l.split()\n",
    "        newEvent = event(spStr)\n",
    "        if newEvent.getMech()==mech:\n",
    "            eventsList.append(newEvent)\n",
    "    return eventsList\n"
   ]
  },
  {
   "cell_type": "markdown",
   "metadata": {},
   "source": [
    "The following are functions that read rates/BR files"
   ]
  },
  {
   "cell_type": "code",
   "execution_count": 3,
   "metadata": {},
   "outputs": [],
   "source": [
    "# rates: xs *BR\n",
    "# assume that BR e- ~= BR muons for now\n",
    "# unless Asher can give us similar files for e-\n",
    "def getRate(lep=\"muons\",mech=\"Brem\"):\n",
    "    rates = OrderedDict() \n",
    "    ifile = open(\"data/AprimeToMuonsRate_%s.txt\"%mech)\n",
    "    for l in ifile:\n",
    "        temp = l.split()\n",
    "        if 'GeV' in l: continue\n",
    "        rates['%.3f'%float(temp[0])] = float(temp[1])\n",
    "    return rates\n",
    "\n",
    "def getRatefromAsher(epsilon,POT,lep=\"muons\",mech=\"Brem\"):\n",
    "    bfs = {}\n",
    "    if lep=='muons':\n",
    "        iBFfile = \"data/BFtoMuons.txt\"\n",
    "    else:\n",
    "        iBFfile = \"data/BFtoElectrons.txt\"\n",
    "    iBR = open(iBFfile)\n",
    "    #Log[10,mAp/GeV]\tLog[10,BF]\n",
    "    for l in iBR:\n",
    "        temp = l.split()\n",
    "        if '#' in l or len(temp)==0: continue\n",
    "        mass = pow(10,float(temp[0]))\n",
    "        bfs['%.3f'%mass] = pow(10,float(temp[1]))\n",
    "\n",
    "    rates = OrderedDict() \n",
    "    ifileYield = open(\"data/%sYield.txt\"%mech)\n",
    "    #epsilon = 10^-6, POT = 1.44*10^18, rescale yield as NAp = column2*(epsilon/10^-6)^2 (POT/1.44*10^18)\n",
    "    #Log[10,mAp/GeV]\tLog[10,NAp]\n",
    "    for l in ifileYield:\n",
    "        temp = l.split()\n",
    "        if '#' in l or len(temp)==0: continue\n",
    "        mass = pow(10,float(temp[0]))\n",
    "        column2 = pow(10,float(temp[1]))\n",
    "        NAp = column2*(POT/1.44e18)*(epsilon/10**(-6))**2\n",
    "        if '%.3f'%mass in bfs:\n",
    "            BF = bfs['%.3f'%mass]\n",
    "        else:\n",
    "            print('No BF!')\n",
    "            BF = 1\n",
    "        rates['%.3f'%mass] = NAp*BF\n",
    "    return rates\n",
    "\n",
    "# this function interpolates between existent rates\n",
    "def addrates(masses,rates):\n",
    "    im = 0\n",
    "    lrates = list(rates.values())\n",
    "    new_rates = {}\n",
    "    for m in masses:\n",
    "        mass = '%.3f'%m\n",
    "        if mass in list(rates.keys()):\n",
    "            im = im + 1\n",
    "            new_rates[mass] = rates[mass]\n",
    "        else:\n",
    "            new_rates[mass] = lrates[im-1]\n",
    "    return new_rates"
   ]
  },
  {
   "cell_type": "code",
   "execution_count": 4,
   "metadata": {},
   "outputs": [],
   "source": [
    "def yields(minVz,maxVz,lep=\"muons\",mech=\"Brem\"):\n",
    "    events = parseFile(minVz,maxVz,lep,mech)\n",
    "    \n",
    "    # protons on target\n",
    "    #POT = 10**18 \n",
    "    POT = 1.44e18\n",
    "    \n",
    "    yields = {}\n",
    "    masses = []\n",
    "    epsilons = []\n",
    "    couplings = {}\n",
    "        \n",
    "    for ev in events:\n",
    "        if ev.getMass() not in masses:\n",
    "            masses.append(ev.getMass())\n",
    "        if ev.getEps() not in epsilons:\n",
    "            epsilons.append(ev.getEps())\n",
    "        if ev.getEps() in couplings:\n",
    "            couplings[ev.getEps()].append(ev)\n",
    "        else:\n",
    "            couplings[ev.getEps()]=[ev]\n",
    "\n",
    "    cross = []\n",
    "    i=0\n",
    "    rates_per_eps = {}\n",
    "    ratios_per_eps = {}\n",
    "    for eps in epsilons:\n",
    "        old_rates = getRate(lep,mech)\n",
    "        rates = getRatefromAsher(eps,POT,lep,mech)\n",
    "        new_rates = addrates(masses,rates)\n",
    "        rates_per_eps['%.2e'%eps] = rates\n",
    "        ratios_per_eps['%.2e'%eps] = {}\n",
    "        cross.append([])\n",
    "        for m in masses:\n",
    "            for ev in events:\n",
    "                if ev.getMass() == m and ev.getEps() == eps:\n",
    "                    cross[i].append(ev.getRatio()*new_rates['%.3f'%m]) #*POT*eps**2) # this is not needed anymore since its accounted for in the new_rates\n",
    "                    ratios_per_eps['%.2e'%eps]['%.3f'%m] = ev.getRatio()\n",
    "        i+=1\n",
    "        \n",
    "    # now plot\n",
    "    fig = plt.figure()\n",
    "    ax = fig.add_subplot(1,1,1)\n",
    "    CS = ax.contour(masses, epsilons, cross,levels=1000,cmap = \"viridis\")\n",
    "    ax.set_xlabel(\"mass (GeV)\")\n",
    "    ax.set_ylabel(r\"$\\epsilon$\")\n",
    "    ax.set_title(r'Acceptance*POT*$\\epsilon^{2}$*XS*BR %s %i %i'%(mech,minVz,maxVz))\n",
    "    ax.set_yscale('log')\n",
    "    if lep=='muons':\n",
    "        if 'Brem' in mech:\n",
    "            #ax.set_xlim(.25,3.05)\n",
    "            ax.set_xlim(.25,5)\n",
    "            ax.set_xscale('log')\n",
    "        else:\n",
    "            ax.set_xlim(.25,5)\n",
    "            #ax.set_xlim(.25,.55)\n",
    "    if lep=='electrons':\n",
    "        ax.set_ylim(1e-8,1e-2)\n",
    "        if 'Brem' in mech:\n",
    "            #ax.set_xlim(.01,3.05)\n",
    "            ax.set_xlim(.01,5)\n",
    "            ax.set_xscale('log')\n",
    "        else:\n",
    "            #ax.set_xlim(.01,1.5) \n",
    "            ax.set_xscale('log')\n",
    "            ax.set_xlim(.01,5)\n",
    "    plt.colorbar(CS)\n",
    "    #plt.show()\n",
    "    plt.savefig(\"yield_%s_%s.png\"%(lep,mech))\n",
    "    plt.clf()\n",
    "    \n",
    "    # now plot 10 ev contour\n",
    "    fig = plt.figure()\n",
    "    ax = fig.add_subplot(1,1,1)\n",
    "    CS = ax.contour(masses, epsilons, cross,levels=[10],cmap = \"viridis\")\n",
    "    ax.set_xlabel(\"mass (GeV)\")\n",
    "    ax.set_ylabel(r\"$\\epsilon$\")\n",
    "    ax.set_title(r'Acceptance*POT*$\\epsilon^{2}$*XS*BR %s %i %i 10ev'%(mech,minVz,maxVz))\n",
    "    ax.set_yscale('log')\n",
    "    if lep=='muons':\n",
    "        if 'Brem' in mech:\n",
    "            ax.set_xlim(.25,5)\n",
    "            ax.set_xscale('log')\n",
    "        else:\n",
    "            ax.set_xlim(.25,5)\n",
    "    if lep=='electrons':\n",
    "        ax.set_ylim(1e-8,1e-2)\n",
    "        if 'Brem' in mech:\n",
    "            ax.set_xlim(.01,5)\n",
    "            ax.set_xscale('log')\n",
    "        else:\n",
    "            ax.set_xlim(.01,5) \n",
    "            ax.set_xscale('log')\n",
    "    #plt.show()\n",
    "    plt.savefig(\"yield_%s_%s_10ev.png\"%(lep,mech))\n",
    "    plt.clf()\n",
    "    \n",
    "    fig = plt.figure()\n",
    "    ax = fig.add_subplot(1,1,1)\n",
    "    CS = ax.contour(masses, epsilons, cross,levels=[10000],cmap = \"viridis\")\n",
    "    ax.set_xlabel(\"mass (GeV)\")\n",
    "    ax.set_ylabel(r\"$\\epsilon$\")\n",
    "    ax.set_title(r'Acceptance*POT*$\\epsilon^{2}$*XS*BR %s %i %i 10$^3$ev'%(mech,minVz,maxVz))\n",
    "    ax.set_yscale('log')\n",
    "    if lep=='muons':\n",
    "        if 'Brem' in mech:\n",
    "            ax.set_xlim(.25,5)\n",
    "            ax.set_xscale('log')\n",
    "        else:\n",
    "            ax.set_xlim(.25,5)\n",
    "    if lep=='electrons':\n",
    "        ax.set_ylim(1e-8,1e-2)\n",
    "        if 'Brem' in mech:\n",
    "            ax.set_xlim(.01,5)\n",
    "            ax.set_xscale('log')\n",
    "        else:\n",
    "            ax.set_xlim(.01,5) \n",
    "            ax.set_xscale('log')\n",
    "    #plt.show()\n",
    "    plt.savefig(\"yield_%s_%s_10000ev.png\"%(lep,mech))\n",
    "    plt.clf()\n",
    "    \n",
    "    # now plot rates\n",
    "    fig = plt.figure()\n",
    "    ax = fig.add_subplot(1,1,1)\n",
    "    masses = [float(i) for i in rates_per_eps['%.2e'%(1e-06)].keys()]\n",
    "    naps = list(rates_per_eps['%.2e'%(1e-06)].values())\n",
    "    plt.plot(masses,naps,color='blue')\n",
    "    ax.set_xlabel(\"mass (GeV)\")\n",
    "    ax.set_ylabel(r\"$N_A^{'}$\")\n",
    "    ax.set_xlim(.01,1.5) \n",
    "    ax.set_ylim(1,1e7)\n",
    "    ax.set_xscale('log')\n",
    "    ax.set_title(r'$E_{beam}=$120 GeV,POT=1.44e18,$\\epsilon=10^{-6}$ %s'%(mech))\n",
    "    ax.set_yscale('log')\n",
    "    ax.set_xscale('log')\n",
    "    #plt.show()\n",
    "    plt.savefig(\"nap_eps1em6_%s_%s.png\"%(lep,mech))\n",
    "    plt.clf()\n",
    "    \n",
    "    # now plot acceptance only\n",
    "    fig = plt.figure()\n",
    "    ax = fig.add_subplot(1,1,1)\n",
    "    masses = [float(i) for i in ratios_per_eps['%.2e'%(1e-06)].keys()]\n",
    "    naps = list(ratios_per_eps['%.2e'%(1e-06)].values())\n",
    "    plt.plot(masses,naps,color='green')\n",
    "    ax.set_xlabel(\"mass (GeV)\")\n",
    "    ax.set_ylabel(r\"Acceptance\")\n",
    "    ax.set_title(\"Acceptance\")\n",
    "    ax.set_xlim(.01,1.5) \n",
    "    ax.set_ylim(0.01,1)\n",
    "    ax.set_xscale('log')\n",
    "    ax.set_title(r'$E_{beam}=$120 GeV,POT=1.44e18,$\\epsilon=10^{-6}$ %s'%(mech))\n",
    "    ax.set_yscale('log')\n",
    "    ax.set_xscale('log')\n",
    "    #plt.show()\n",
    "    plt.savefig(\"accept_eps1em6_%s_%s.png\"%(lep,mech))\n",
    "    plt.clf()"
   ]
  },
  {
   "cell_type": "markdown",
   "metadata": {},
   "source": [
    "Now plot for electrons:\n",
    "### Brem production mode"
   ]
  },
  {
   "cell_type": "code",
   "execution_count": 5,
   "metadata": {},
   "outputs": [
    {
     "data": {
      "text/plain": [
       "<Figure size 432x288 with 0 Axes>"
      ]
     },
     "metadata": {},
     "output_type": "display_data"
    },
    {
     "data": {
      "text/plain": [
       "<Figure size 432x288 with 0 Axes>"
      ]
     },
     "metadata": {},
     "output_type": "display_data"
    },
    {
     "data": {
      "text/plain": [
       "<Figure size 432x288 with 0 Axes>"
      ]
     },
     "metadata": {},
     "output_type": "display_data"
    },
    {
     "data": {
      "text/plain": [
       "<Figure size 432x288 with 0 Axes>"
      ]
     },
     "metadata": {},
     "output_type": "display_data"
    },
    {
     "data": {
      "text/plain": [
       "<Figure size 432x288 with 0 Axes>"
      ]
     },
     "metadata": {},
     "output_type": "display_data"
    }
   ],
   "source": [
    "yields(500,600,\"electrons\",\"Brem\")"
   ]
  },
  {
   "cell_type": "markdown",
   "metadata": {},
   "source": [
    "### Eta production mode"
   ]
  },
  {
   "cell_type": "code",
   "execution_count": 6,
   "metadata": {},
   "outputs": [
    {
     "data": {
      "text/plain": [
       "<Figure size 432x288 with 0 Axes>"
      ]
     },
     "metadata": {},
     "output_type": "display_data"
    },
    {
     "data": {
      "text/plain": [
       "<Figure size 432x288 with 0 Axes>"
      ]
     },
     "metadata": {},
     "output_type": "display_data"
    },
    {
     "data": {
      "text/plain": [
       "<Figure size 432x288 with 0 Axes>"
      ]
     },
     "metadata": {},
     "output_type": "display_data"
    },
    {
     "data": {
      "text/plain": [
       "<Figure size 432x288 with 0 Axes>"
      ]
     },
     "metadata": {},
     "output_type": "display_data"
    },
    {
     "data": {
      "text/plain": [
       "<Figure size 432x288 with 0 Axes>"
      ]
     },
     "metadata": {},
     "output_type": "display_data"
    }
   ],
   "source": [
    "yields(500,600,\"electrons\",\"Eta\")"
   ]
  },
  {
   "cell_type": "markdown",
   "metadata": {},
   "source": [
    "For muons:"
   ]
  },
  {
   "cell_type": "code",
   "execution_count": 5,
   "metadata": {},
   "outputs": [
    {
     "name": "stderr",
     "output_type": "stream",
     "text": [
      "/Users/cristina/Library/Python/3.6/lib/python/site-packages/ipykernel_launcher.py:75: UserWarning: No contour levels were found within the data range.\n",
      "/Users/cristina/Library/Python/3.6/lib/python/site-packages/ipykernel_launcher.py:100: UserWarning: No contour levels were found within the data range.\n"
     ]
    },
    {
     "data": {
      "text/plain": [
       "<Figure size 432x288 with 0 Axes>"
      ]
     },
     "metadata": {},
     "output_type": "display_data"
    },
    {
     "data": {
      "text/plain": [
       "<Figure size 432x288 with 0 Axes>"
      ]
     },
     "metadata": {},
     "output_type": "display_data"
    },
    {
     "data": {
      "text/plain": [
       "<Figure size 432x288 with 0 Axes>"
      ]
     },
     "metadata": {},
     "output_type": "display_data"
    },
    {
     "data": {
      "text/plain": [
       "<Figure size 432x288 with 0 Axes>"
      ]
     },
     "metadata": {},
     "output_type": "display_data"
    },
    {
     "data": {
      "text/plain": [
       "<Figure size 432x288 with 0 Axes>"
      ]
     },
     "metadata": {},
     "output_type": "display_data"
    },
    {
     "data": {
      "text/plain": [
       "<Figure size 432x288 with 0 Axes>"
      ]
     },
     "metadata": {},
     "output_type": "display_data"
    },
    {
     "data": {
      "text/plain": [
       "<Figure size 432x288 with 0 Axes>"
      ]
     },
     "metadata": {},
     "output_type": "display_data"
    },
    {
     "data": {
      "text/plain": [
       "<Figure size 432x288 with 0 Axes>"
      ]
     },
     "metadata": {},
     "output_type": "display_data"
    },
    {
     "data": {
      "text/plain": [
       "<Figure size 432x288 with 0 Axes>"
      ]
     },
     "metadata": {},
     "output_type": "display_data"
    },
    {
     "data": {
      "text/plain": [
       "<Figure size 432x288 with 0 Axes>"
      ]
     },
     "metadata": {},
     "output_type": "display_data"
    }
   ],
   "source": [
    "yields(500,600,\"muons\",\"Brem\")\n",
    "yields(500,600,\"muons\",\"Eta\")"
   ]
  },
  {
   "cell_type": "code",
   "execution_count": null,
   "metadata": {},
   "outputs": [],
   "source": [
    "# test function to add elements to ordered dict\n",
    "from collections import OrderedDict \n",
    "\n",
    "rates = OrderedDict()\n",
    "rates = {'1': 0,\n",
    "         '3': 1,\n",
    "         '4': 2,\n",
    "        }\n",
    "masses = [1,2,3,4,5,6]\n",
    "\n",
    "im = 0\n",
    "lrates = list(rates.values())\n",
    "print(list(rates.keys()))\n",
    "print(lrates)\n",
    "new_rates = {}\n",
    "for m in masses:\n",
    "    mass = str(m)\n",
    "    if mass in list(rates.keys()):\n",
    "        im = im + 1\n",
    "        new_rates[mass] = rates[mass]\n",
    "        print('here',new_rates[mass])\n",
    "    else:\n",
    "        print(im)\n",
    "        new_rates[m] = lrates[im-1]"
   ]
  },
  {
   "cell_type": "code",
   "execution_count": null,
   "metadata": {},
   "outputs": [],
   "source": [
    "# plot from file\n",
    "bfs = {}\n",
    "iBFfile = \"data/BFtoElectrons.txt\"\n",
    "iBR = open(iBFfile)\n",
    "for l in iBR:\n",
    "    temp = l.split()\n",
    "    if '#' in l or len(temp)==0: continue\n",
    "    mass = pow(10,float(temp[0]))\n",
    "    bfs['%.3f'%mass] = pow(10,float(temp[1]))\n",
    "    \n",
    "rates_file = OrderedDict() \n",
    "ifileYield = open(\"data/BremYield.txt\")\n",
    "for l in ifileYield:\n",
    "    temp = l.split()\n",
    "    if '#' in l or len(temp)==0: continue\n",
    "    column2 = 10**(float(temp[1]))\n",
    "    mass = pow(10,float(temp[0]))\n",
    "    rates_file['%.3f'%mass] = pow(10,float(temp[1]))*bfs['%.3f'%mass]\n",
    "\n",
    "masses = [float(i) for i in rates_file.keys()]\n",
    "yields = list(rates_file.values())\n",
    "plt.clf()\n",
    "fig = plt.figure()\n",
    "ax = fig.add_subplot(1,1,1)\n",
    "ax.set_title(r'Yields')\n",
    "ax.set_yscale('log')\n",
    "ax.plot(masses,yields,color='green')\n",
    "ax.set_xscale('log')\n",
    "ax.set_xticks([0.1,1,1.5])\n",
    "plt.show()\n",
    "plt.clf()"
   ]
  },
  {
   "cell_type": "code",
   "execution_count": null,
   "metadata": {},
   "outputs": [],
   "source": [
    "rates = OrderedDict() \n",
    "ifile = open(\"data/AprimeToMuonsRate_Brem.txt\")\n",
    "for l in ifile:\n",
    "    temp = l.split()\n",
    "    if 'GeV' in l: continue\n",
    "    rates['%.3f'%float(temp[0])] = float(temp[1])\n",
    "    \n",
    "masses = [float(i) for i in rates.keys()]\n",
    "yields = list(rates.values())\n",
    "plt.clf()\n",
    "fig = plt.figure()\n",
    "ax = fig.add_subplot(1,1,1)\n",
    "ax.set_title(r'Yields')\n",
    "ax.set_yscale('log')\n",
    "ax.plot(masses,yields,color='green')\n",
    "ax.set_xscale('log')\n",
    "ax.set_xlim(0.01,1)\n",
    "ax.set_xticks([0.1,1,1.5])\n",
    "plt.show()\n",
    "plt.clf()"
   ]
  },
  {
   "cell_type": "code",
   "execution_count": null,
   "metadata": {},
   "outputs": [],
   "source": []
  },
  {
   "cell_type": "code",
   "execution_count": null,
   "metadata": {},
   "outputs": [],
   "source": []
  },
  {
   "cell_type": "code",
   "execution_count": null,
   "metadata": {},
   "outputs": [],
   "source": []
  }
 ],
 "metadata": {
  "kernelspec": {
   "display_name": "Python 3",
   "language": "python",
   "name": "python3"
  },
  "language_info": {
   "codemirror_mode": {
    "name": "ipython",
    "version": 3
   },
   "file_extension": ".py",
   "mimetype": "text/x-python",
   "name": "python",
   "nbconvert_exporter": "python",
   "pygments_lexer": "ipython3",
   "version": "3.6.4"
  }
 },
 "nbformat": 4,
 "nbformat_minor": 2
}
